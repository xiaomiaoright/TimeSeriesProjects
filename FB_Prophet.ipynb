{
 "cells": [
  {
   "cell_type": "markdown",
   "metadata": {},
   "source": [
    "# About Prophet\n",
    "[About Prophet paper](https://peerj.com/preprints/3190.pdf)\n",
    "\n",
    "* [Installation](https://facebook.github.io/prophet/docs/installation.html#python):\n",
    "```python\n",
    "$ pip install pystan\n",
    "$ pip install fbprophet\n",
    "```\n",
    "There is a problem about install fbprophet on windows"
   ]
  }
 ],
 "metadata": {
  "language_info": {
   "codemirror_mode": {
    "name": "ipython",
    "version": 3
   },
   "file_extension": ".py",
   "mimetype": "text/x-python",
   "name": "python",
   "nbconvert_exporter": "python",
   "pygments_lexer": "ipython3",
   "version": 3
  },
  "orig_nbformat": 2,
  "kernelspec": {
   "name": "python_defaultSpec_1594201756347",
   "display_name": "Python 3.8.2 64-bit ('ds': conda)"
  }
 },
 "nbformat": 4,
 "nbformat_minor": 2
}