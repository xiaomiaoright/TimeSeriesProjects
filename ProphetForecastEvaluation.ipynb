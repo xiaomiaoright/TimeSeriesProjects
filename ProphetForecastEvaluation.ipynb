{
  "nbformat": 4,
  "nbformat_minor": 0,
  "metadata": {
    "colab": {
      "name": "ProphetForecastEvaluation.ipynb",
      "provenance": []
    },
    "kernelspec": {
      "name": "python3",
      "display_name": "Python 3"
    }
  },
  "cells": [
    {
      "cell_type": "code",
      "metadata": {
        "id": "FlvBbHwEIb-e",
        "colab_type": "code",
        "colab": {}
      },
      "source": [
        "import pandas as pd\n",
        "from fbprophet import Prophet\n",
        "%matplotlib inline"
      ],
      "execution_count": 1,
      "outputs": []
    },
    {
      "cell_type": "code",
      "metadata": {
        "id": "MieI8l0nIRHu",
        "colab_type": "code",
        "colab": {}
      },
      "source": [
        "df = pd.read_csv('https://raw.githubusercontent.com/xiaomiaoright/TimeSeriesProjects/master/Dataset/Miles_Traveled.csv')"
      ],
      "execution_count": 2,
      "outputs": []
    },
    {
      "cell_type": "code",
      "metadata": {
        "id": "Fq7BYun5IeZz",
        "colab_type": "code",
        "colab": {
          "base_uri": "https://localhost:8080/",
          "height": 204
        },
        "outputId": "072018d6-205b-4ca3-ee20-be413e60b1b9"
      },
      "source": [
        "df.head()"
      ],
      "execution_count": 3,
      "outputs": [
        {
          "output_type": "execute_result",
          "data": {
            "text/html": [
              "<div>\n",
              "<style scoped>\n",
              "    .dataframe tbody tr th:only-of-type {\n",
              "        vertical-align: middle;\n",
              "    }\n",
              "\n",
              "    .dataframe tbody tr th {\n",
              "        vertical-align: top;\n",
              "    }\n",
              "\n",
              "    .dataframe thead th {\n",
              "        text-align: right;\n",
              "    }\n",
              "</style>\n",
              "<table border=\"1\" class=\"dataframe\">\n",
              "  <thead>\n",
              "    <tr style=\"text-align: right;\">\n",
              "      <th></th>\n",
              "      <th>DATE</th>\n",
              "      <th>TRFVOLUSM227NFWA</th>\n",
              "    </tr>\n",
              "  </thead>\n",
              "  <tbody>\n",
              "    <tr>\n",
              "      <th>0</th>\n",
              "      <td>1970-01-01</td>\n",
              "      <td>80173.0</td>\n",
              "    </tr>\n",
              "    <tr>\n",
              "      <th>1</th>\n",
              "      <td>1970-02-01</td>\n",
              "      <td>77442.0</td>\n",
              "    </tr>\n",
              "    <tr>\n",
              "      <th>2</th>\n",
              "      <td>1970-03-01</td>\n",
              "      <td>90223.0</td>\n",
              "    </tr>\n",
              "    <tr>\n",
              "      <th>3</th>\n",
              "      <td>1970-04-01</td>\n",
              "      <td>89956.0</td>\n",
              "    </tr>\n",
              "    <tr>\n",
              "      <th>4</th>\n",
              "      <td>1970-05-01</td>\n",
              "      <td>97972.0</td>\n",
              "    </tr>\n",
              "  </tbody>\n",
              "</table>\n",
              "</div>"
            ],
            "text/plain": [
              "         DATE  TRFVOLUSM227NFWA\n",
              "0  1970-01-01           80173.0\n",
              "1  1970-02-01           77442.0\n",
              "2  1970-03-01           90223.0\n",
              "3  1970-04-01           89956.0\n",
              "4  1970-05-01           97972.0"
            ]
          },
          "metadata": {
            "tags": []
          },
          "execution_count": 3
        }
      ]
    },
    {
      "cell_type": "code",
      "metadata": {
        "id": "uHEcp7qOIfLD",
        "colab_type": "code",
        "colab": {
          "base_uri": "https://localhost:8080/",
          "height": 170
        },
        "outputId": "858fe400-87cb-4936-e6ec-3aa8f838d22c"
      },
      "source": [
        "df.info()"
      ],
      "execution_count": 4,
      "outputs": [
        {
          "output_type": "stream",
          "text": [
            "<class 'pandas.core.frame.DataFrame'>\n",
            "RangeIndex: 588 entries, 0 to 587\n",
            "Data columns (total 2 columns):\n",
            " #   Column            Non-Null Count  Dtype  \n",
            "---  ------            --------------  -----  \n",
            " 0   DATE              588 non-null    object \n",
            " 1   TRFVOLUSM227NFWA  588 non-null    float64\n",
            "dtypes: float64(1), object(1)\n",
            "memory usage: 9.3+ KB\n"
          ],
          "name": "stdout"
        }
      ]
    },
    {
      "cell_type": "code",
      "metadata": {
        "id": "0xgBaABCIlRM",
        "colab_type": "code",
        "colab": {
          "base_uri": "https://localhost:8080/",
          "height": 170
        },
        "outputId": "4d5e935d-ebf1-4951-c6f9-187599ef4c32"
      },
      "source": [
        "df.columns = ['ds','y']\n",
        "df['ds'] = pd.to_datetime(df['ds'])\n",
        "df.info()"
      ],
      "execution_count": 5,
      "outputs": [
        {
          "output_type": "stream",
          "text": [
            "<class 'pandas.core.frame.DataFrame'>\n",
            "RangeIndex: 588 entries, 0 to 587\n",
            "Data columns (total 2 columns):\n",
            " #   Column  Non-Null Count  Dtype         \n",
            "---  ------  --------------  -----         \n",
            " 0   ds      588 non-null    datetime64[ns]\n",
            " 1   y       588 non-null    float64       \n",
            "dtypes: datetime64[ns](1), float64(1)\n",
            "memory usage: 9.3 KB\n"
          ],
          "name": "stdout"
        }
      ]
    },
    {
      "cell_type": "code",
      "metadata": {
        "id": "DfcJua5hIq67",
        "colab_type": "code",
        "colab": {
          "base_uri": "https://localhost:8080/",
          "height": 405
        },
        "outputId": "6d2509ea-1295-4d55-c337-7a5d9b0f01d1"
      },
      "source": [
        "df.plot(x='ds',y='y',figsize=(18,6))"
      ],
      "execution_count": 7,
      "outputs": [
        {
          "output_type": "execute_result",
          "data": {
            "text/plain": [
              "<matplotlib.axes._subplots.AxesSubplot at 0x7f6659edf908>"
            ]
          },
          "metadata": {
            "tags": []
          },
          "execution_count": 7
        },
        {
          "output_type": "display_data",
          "data": {
            "image/png": "[encoded data removed]",
            "text/plain": [
              "<Figure size 1296x432 with 1 Axes>"
            ]
          },
          "metadata": {
            "tags": [],
            "needs_background": "light"
          }
        }
      ]
    },
    {
      "cell_type": "code",
      "metadata": {
        "id": "EhG6GOfWItVq",
        "colab_type": "code",
        "colab": {
          "base_uri": "https://localhost:8080/",
          "height": 204
        },
        "outputId": "f253f53d-9e2c-41ec-8bd0-2e034e7f4ec7"
      },
      "source": [
        "df.head()"
      ],
      "execution_count": 8,
      "outputs": [
        {
          "output_type": "execute_result",
          "data": {
            "text/html": [
              "<div>\n",
              "<style scoped>\n",
              "    .dataframe tbody tr th:only-of-type {\n",
              "        vertical-align: middle;\n",
              "    }\n",
              "\n",
              "    .dataframe tbody tr th {\n",
              "        vertical-align: top;\n",
              "    }\n",
              "\n",
              "    .dataframe thead th {\n",
              "        text-align: right;\n",
              "    }\n",
              "</style>\n",
              "<table border=\"1\" class=\"dataframe\">\n",
              "  <thead>\n",
              "    <tr style=\"text-align: right;\">\n",
              "      <th></th>\n",
              "      <th>ds</th>\n",
              "      <th>y</th>\n",
              "    </tr>\n",
              "  </thead>\n",
              "  <tbody>\n",
              "    <tr>\n",
              "      <th>0</th>\n",
              "      <td>1970-01-01</td>\n",
              "      <td>80173.0</td>\n",
              "    </tr>\n",
              "    <tr>\n",
              "      <th>1</th>\n",
              "      <td>1970-02-01</td>\n",
              "      <td>77442.0</td>\n",
              "    </tr>\n",
              "    <tr>\n",
              "      <th>2</th>\n",
              "      <td>1970-03-01</td>\n",
              "      <td>90223.0</td>\n",
              "    </tr>\n",
              "    <tr>\n",
              "      <th>3</th>\n",
              "      <td>1970-04-01</td>\n",
              "      <td>89956.0</td>\n",
              "    </tr>\n",
              "    <tr>\n",
              "      <th>4</th>\n",
              "      <td>1970-05-01</td>\n",
              "      <td>97972.0</td>\n",
              "    </tr>\n",
              "  </tbody>\n",
              "</table>\n",
              "</div>"
            ],
            "text/plain": [
              "          ds        y\n",
              "0 1970-01-01  80173.0\n",
              "1 1970-02-01  77442.0\n",
              "2 1970-03-01  90223.0\n",
              "3 1970-04-01  89956.0\n",
              "4 1970-05-01  97972.0"
            ]
          },
          "metadata": {
            "tags": []
          },
          "execution_count": 8
        }
      ]
    },
    {
      "cell_type": "code",
      "metadata": {
        "id": "LKnraPwtIy6z",
        "colab_type": "code",
        "colab": {
          "base_uri": "https://localhost:8080/",
          "height": 34
        },
        "outputId": "51ba1e4b-c798-43be-d2d1-8f08f70587c1"
      },
      "source": [
        "df.shape"
      ],
      "execution_count": 9,
      "outputs": [
        {
          "output_type": "execute_result",
          "data": {
            "text/plain": [
              "(588, 2)"
            ]
          },
          "metadata": {
            "tags": []
          },
          "execution_count": 9
        }
      ]
    },
    {
      "cell_type": "code",
      "metadata": {
        "id": "OfmDRAVlIzp_",
        "colab_type": "code",
        "colab": {}
      },
      "source": [
        ""
      ],
      "execution_count": null,
      "outputs": []
    },
    {
      "cell_type": "markdown",
      "metadata": {
        "id": "x9WBNPmPI2Y_",
        "colab_type": "text"
      },
      "source": [
        "# Train test split"
      ]
    },
    {
      "cell_type": "code",
      "metadata": {
        "id": "NFNR8Q0RI3z5",
        "colab_type": "code",
        "colab": {}
      },
      "source": [
        "test = df.iloc[-12:]\n",
        "train = df.iloc[:-12]"
      ],
      "execution_count": 29,
      "outputs": []
    },
    {
      "cell_type": "code",
      "metadata": {
        "id": "cTHhSDGZI-iS",
        "colab_type": "code",
        "colab": {
          "base_uri": "https://localhost:8080/",
          "height": 421
        },
        "outputId": "4205a237-34e5-4f47-ca1b-777d1ce9a306"
      },
      "source": [
        "test"
      ],
      "execution_count": 31,
      "outputs": [
        {
          "output_type": "execute_result",
          "data": {
            "text/html": [
              "<div>\n",
              "<style scoped>\n",
              "    .dataframe tbody tr th:only-of-type {\n",
              "        vertical-align: middle;\n",
              "    }\n",
              "\n",
              "    .dataframe tbody tr th {\n",
              "        vertical-align: top;\n",
              "    }\n",
              "\n",
              "    .dataframe thead th {\n",
              "        text-align: right;\n",
              "    }\n",
              "</style>\n",
              "<table border=\"1\" class=\"dataframe\">\n",
              "  <thead>\n",
              "    <tr style=\"text-align: right;\">\n",
              "      <th></th>\n",
              "      <th>ds</th>\n",
              "      <th>y</th>\n",
              "    </tr>\n",
              "  </thead>\n",
              "  <tbody>\n",
              "    <tr>\n",
              "      <th>576</th>\n",
              "      <td>2018-01-01</td>\n",
              "      <td>245695.0</td>\n",
              "    </tr>\n",
              "    <tr>\n",
              "      <th>577</th>\n",
              "      <td>2018-02-01</td>\n",
              "      <td>226660.0</td>\n",
              "    </tr>\n",
              "    <tr>\n",
              "      <th>578</th>\n",
              "      <td>2018-03-01</td>\n",
              "      <td>268480.0</td>\n",
              "    </tr>\n",
              "    <tr>\n",
              "      <th>579</th>\n",
              "      <td>2018-04-01</td>\n",
              "      <td>272475.0</td>\n",
              "    </tr>\n",
              "    <tr>\n",
              "      <th>580</th>\n",
              "      <td>2018-05-01</td>\n",
              "      <td>286164.0</td>\n",
              "    </tr>\n",
              "    <tr>\n",
              "      <th>581</th>\n",
              "      <td>2018-06-01</td>\n",
              "      <td>280877.0</td>\n",
              "    </tr>\n",
              "    <tr>\n",
              "      <th>582</th>\n",
              "      <td>2018-07-01</td>\n",
              "      <td>288145.0</td>\n",
              "    </tr>\n",
              "    <tr>\n",
              "      <th>583</th>\n",
              "      <td>2018-08-01</td>\n",
              "      <td>286608.0</td>\n",
              "    </tr>\n",
              "    <tr>\n",
              "      <th>584</th>\n",
              "      <td>2018-09-01</td>\n",
              "      <td>260595.0</td>\n",
              "    </tr>\n",
              "    <tr>\n",
              "      <th>585</th>\n",
              "      <td>2018-10-01</td>\n",
              "      <td>282174.0</td>\n",
              "    </tr>\n",
              "    <tr>\n",
              "      <th>586</th>\n",
              "      <td>2018-11-01</td>\n",
              "      <td>258590.0</td>\n",
              "    </tr>\n",
              "    <tr>\n",
              "      <th>587</th>\n",
              "      <td>2018-12-01</td>\n",
              "      <td>268413.0</td>\n",
              "    </tr>\n",
              "  </tbody>\n",
              "</table>\n",
              "</div>"
            ],
            "text/plain": [
              "            ds         y\n",
              "576 2018-01-01  245695.0\n",
              "577 2018-02-01  226660.0\n",
              "578 2018-03-01  268480.0\n",
              "579 2018-04-01  272475.0\n",
              "580 2018-05-01  286164.0\n",
              "581 2018-06-01  280877.0\n",
              "582 2018-07-01  288145.0\n",
              "583 2018-08-01  286608.0\n",
              "584 2018-09-01  260595.0\n",
              "585 2018-10-01  282174.0\n",
              "586 2018-11-01  258590.0\n",
              "587 2018-12-01  268413.0"
            ]
          },
          "metadata": {
            "tags": []
          },
          "execution_count": 31
        }
      ]
    },
    {
      "cell_type": "markdown",
      "metadata": {
        "id": "o55vz9AtJEky",
        "colab_type": "text"
      },
      "source": [
        "## Create Prophet model"
      ]
    },
    {
      "cell_type": "code",
      "metadata": {
        "id": "9OoyWf3tJHAK",
        "colab_type": "code",
        "colab": {
          "base_uri": "https://localhost:8080/",
          "height": 85
        },
        "outputId": "b7ad00f4-1490-4eaf-fc61-cf54c356e386"
      },
      "source": [
        "model = Prophet()\n",
        "model.fit(train)"
      ],
      "execution_count": 12,
      "outputs": [
        {
          "output_type": "stream",
          "text": [
            "INFO:numexpr.utils:NumExpr defaulting to 2 threads.\n",
            "INFO:fbprophet:Disabling weekly seasonality. Run prophet with weekly_seasonality=True to override this.\n",
            "INFO:fbprophet:Disabling daily seasonality. Run prophet with daily_seasonality=True to override this.\n"
          ],
          "name": "stderr"
        },
        {
          "output_type": "execute_result",
          "data": {
            "text/plain": [
              "<fbprophet.forecaster.Prophet at 0x7f66599a2940>"
            ]
          },
          "metadata": {
            "tags": []
          },
          "execution_count": 12
        }
      ]
    },
    {
      "cell_type": "code",
      "metadata": {
        "id": "p3kwSChIJLHa",
        "colab_type": "code",
        "colab": {}
      },
      "source": [
        ""
      ],
      "execution_count": null,
      "outputs": []
    },
    {
      "cell_type": "markdown",
      "metadata": {
        "id": "aQI-enR5JLyV",
        "colab_type": "text"
      },
      "source": [
        "## create future dataframe for prediction"
      ]
    },
    {
      "cell_type": "code",
      "metadata": {
        "id": "3LslG7CdJPfR",
        "colab_type": "code",
        "colab": {}
      },
      "source": [
        "future = model.make_future_dataframe(24, freq='MS')\n",
        "forecast = model.predict(future)"
      ],
      "execution_count": 13,
      "outputs": []
    },
    {
      "cell_type": "code",
      "metadata": {
        "id": "CeTM-0BmJjAq",
        "colab_type": "code",
        "colab": {
          "base_uri": "https://localhost:8080/",
          "height": 309
        },
        "outputId": "1838f5d1-3b56-4aa4-a4db-ba3a381d35f1"
      },
      "source": [
        "forecast.tail()"
      ],
      "execution_count": 14,
      "outputs": [
        {
          "output_type": "execute_result",
          "data": {
            "text/html": [
              "<div>\n",
              "<style scoped>\n",
              "    .dataframe tbody tr th:only-of-type {\n",
              "        vertical-align: middle;\n",
              "    }\n",
              "\n",
              "    .dataframe tbody tr th {\n",
              "        vertical-align: top;\n",
              "    }\n",
              "\n",
              "    .dataframe thead th {\n",
              "        text-align: right;\n",
              "    }\n",
              "</style>\n",
              "<table border=\"1\" class=\"dataframe\">\n",
              "  <thead>\n",
              "    <tr style=\"text-align: right;\">\n",
              "      <th></th>\n",
              "      <th>ds</th>\n",
              "      <th>trend</th>\n",
              "      <th>yhat_lower</th>\n",
              "      <th>yhat_upper</th>\n",
              "      <th>trend_lower</th>\n",
              "      <th>trend_upper</th>\n",
              "      <th>additive_terms</th>\n",
              "      <th>additive_terms_lower</th>\n",
              "      <th>additive_terms_upper</th>\n",
              "      <th>yearly</th>\n",
              "      <th>yearly_lower</th>\n",
              "      <th>yearly_upper</th>\n",
              "      <th>multiplicative_terms</th>\n",
              "      <th>multiplicative_terms_lower</th>\n",
              "      <th>multiplicative_terms_upper</th>\n",
              "      <th>yhat</th>\n",
              "    </tr>\n",
              "  </thead>\n",
              "  <tbody>\n",
              "    <tr>\n",
              "      <th>595</th>\n",
              "      <td>2019-08-01</td>\n",
              "      <td>265084.094077</td>\n",
              "      <td>276016.165386</td>\n",
              "      <td>287467.125699</td>\n",
              "      <td>264460.902932</td>\n",
              "      <td>265720.835785</td>\n",
              "      <td>16617.804881</td>\n",
              "      <td>16617.804881</td>\n",
              "      <td>16617.804881</td>\n",
              "      <td>16617.804881</td>\n",
              "      <td>16617.804881</td>\n",
              "      <td>16617.804881</td>\n",
              "      <td>0.0</td>\n",
              "      <td>0.0</td>\n",
              "      <td>0.0</td>\n",
              "      <td>281701.898959</td>\n",
              "    </tr>\n",
              "    <tr>\n",
              "      <th>596</th>\n",
              "      <td>2019-09-01</td>\n",
              "      <td>265226.209413</td>\n",
              "      <td>257402.013371</td>\n",
              "      <td>269504.884296</td>\n",
              "      <td>264533.153901</td>\n",
              "      <td>265933.431706</td>\n",
              "      <td>-1584.781347</td>\n",
              "      <td>-1584.781347</td>\n",
              "      <td>-1584.781347</td>\n",
              "      <td>-1584.781347</td>\n",
              "      <td>-1584.781347</td>\n",
              "      <td>-1584.781347</td>\n",
              "      <td>0.0</td>\n",
              "      <td>0.0</td>\n",
              "      <td>0.0</td>\n",
              "      <td>263641.428067</td>\n",
              "    </tr>\n",
              "    <tr>\n",
              "      <th>597</th>\n",
              "      <td>2019-10-01</td>\n",
              "      <td>265363.740384</td>\n",
              "      <td>264687.667199</td>\n",
              "      <td>276511.000545</td>\n",
              "      <td>264594.206709</td>\n",
              "      <td>266144.540279</td>\n",
              "      <td>5104.634149</td>\n",
              "      <td>5104.634149</td>\n",
              "      <td>5104.634149</td>\n",
              "      <td>5104.634149</td>\n",
              "      <td>5104.634149</td>\n",
              "      <td>5104.634149</td>\n",
              "      <td>0.0</td>\n",
              "      <td>0.0</td>\n",
              "      <td>0.0</td>\n",
              "      <td>270468.374533</td>\n",
              "    </tr>\n",
              "    <tr>\n",
              "      <th>598</th>\n",
              "      <td>2019-11-01</td>\n",
              "      <td>265505.855720</td>\n",
              "      <td>251871.701461</td>\n",
              "      <td>263198.285491</td>\n",
              "      <td>264680.379775</td>\n",
              "      <td>266337.079198</td>\n",
              "      <td>-8287.007693</td>\n",
              "      <td>-8287.007693</td>\n",
              "      <td>-8287.007693</td>\n",
              "      <td>-8287.007693</td>\n",
              "      <td>-8287.007693</td>\n",
              "      <td>-8287.007693</td>\n",
              "      <td>0.0</td>\n",
              "      <td>0.0</td>\n",
              "      <td>0.0</td>\n",
              "      <td>257218.848027</td>\n",
              "    </tr>\n",
              "    <tr>\n",
              "      <th>599</th>\n",
              "      <td>2019-12-01</td>\n",
              "      <td>265643.386690</td>\n",
              "      <td>252650.485716</td>\n",
              "      <td>264649.687630</td>\n",
              "      <td>264786.559576</td>\n",
              "      <td>266554.952253</td>\n",
              "      <td>-7066.815183</td>\n",
              "      <td>-7066.815183</td>\n",
              "      <td>-7066.815183</td>\n",
              "      <td>-7066.815183</td>\n",
              "      <td>-7066.815183</td>\n",
              "      <td>-7066.815183</td>\n",
              "      <td>0.0</td>\n",
              "      <td>0.0</td>\n",
              "      <td>0.0</td>\n",
              "      <td>258576.571507</td>\n",
              "    </tr>\n",
              "  </tbody>\n",
              "</table>\n",
              "</div>"
            ],
            "text/plain": [
              "            ds          trend  ...  multiplicative_terms_upper           yhat\n",
              "595 2019-08-01  265084.094077  ...                         0.0  281701.898959\n",
              "596 2019-09-01  265226.209413  ...                         0.0  263641.428067\n",
              "597 2019-10-01  265363.740384  ...                         0.0  270468.374533\n",
              "598 2019-11-01  265505.855720  ...                         0.0  257218.848027\n",
              "599 2019-12-01  265643.386690  ...                         0.0  258576.571507\n",
              "\n",
              "[5 rows x 16 columns]"
            ]
          },
          "metadata": {
            "tags": []
          },
          "execution_count": 14
        }
      ]
    },
    {
      "cell_type": "code",
      "metadata": {
        "id": "W2_pMQiuJlea",
        "colab_type": "code",
        "colab": {
          "base_uri": "https://localhost:8080/",
          "height": 525
        },
        "outputId": "9e530c1f-a99c-4355-bb0d-8f72167c0024"
      },
      "source": [
        "ax = forecast.plot(x='ds',y='yhat',label='Predictions',legend=True,figsize=(12,8))\n",
        "\n",
        "test.plot(x='ds',y='y',label='True Miles',legend=True,ax=ax,xlim=('2018-01-01','2019-01-01'))"
      ],
      "execution_count": 32,
      "outputs": [
        {
          "output_type": "execute_result",
          "data": {
            "text/plain": [
              "<matplotlib.axes._subplots.AxesSubplot at 0x7f6648553b00>"
            ]
          },
          "metadata": {
            "tags": []
          },
          "execution_count": 32
        },
        {
          "output_type": "display_data",
          "data": {
            "image/png": "[encoded data removed]",
            "text/plain": [
              "<Figure size 864x576 with 1 Axes>"
            ]
          },
          "metadata": {
            "tags": [],
            "needs_background": "light"
          }
        }
      ]
    },
    {
      "cell_type": "code",
      "metadata": {
        "id": "vQOnRlMNKteK",
        "colab_type": "code",
        "colab": {}
      },
      "source": [
        "from sklearn.metrics import mean_squared_error"
      ],
      "execution_count": 33,
      "outputs": []
    },
    {
      "cell_type": "code",
      "metadata": {
        "id": "wXZasbDOLHws",
        "colab_type": "code",
        "colab": {}
      },
      "source": [
        "predictions = forecast.iloc[-12:]"
      ],
      "execution_count": 34,
      "outputs": []
    },
    {
      "cell_type": "code",
      "metadata": {
        "id": "JWzhhNU8LMKS",
        "colab_type": "code",
        "colab": {
          "base_uri": "https://localhost:8080/",
          "height": 645
        },
        "outputId": "25fd3b29-be22-4425-df6e-7d138b75ddcd"
      },
      "source": [
        "predictions"
      ],
      "execution_count": 35,
      "outputs": [
        {
          "output_type": "execute_result",
          "data": {
            "text/html": [
              "<div>\n",
              "<style scoped>\n",
              "    .dataframe tbody tr th:only-of-type {\n",
              "        vertical-align: middle;\n",
              "    }\n",
              "\n",
              "    .dataframe tbody tr th {\n",
              "        vertical-align: top;\n",
              "    }\n",
              "\n",
              "    .dataframe thead th {\n",
              "        text-align: right;\n",
              "    }\n",
              "</style>\n",
              "<table border=\"1\" class=\"dataframe\">\n",
              "  <thead>\n",
              "    <tr style=\"text-align: right;\">\n",
              "      <th></th>\n",
              "      <th>ds</th>\n",
              "      <th>trend</th>\n",
              "      <th>yhat_lower</th>\n",
              "      <th>yhat_upper</th>\n",
              "      <th>trend_lower</th>\n",
              "      <th>trend_upper</th>\n",
              "      <th>additive_terms</th>\n",
              "      <th>additive_terms_lower</th>\n",
              "      <th>additive_terms_upper</th>\n",
              "      <th>yearly</th>\n",
              "      <th>yearly_lower</th>\n",
              "      <th>yearly_upper</th>\n",
              "      <th>multiplicative_terms</th>\n",
              "      <th>multiplicative_terms_lower</th>\n",
              "      <th>multiplicative_terms_upper</th>\n",
              "      <th>yhat</th>\n",
              "    </tr>\n",
              "  </thead>\n",
              "  <tbody>\n",
              "    <tr>\n",
              "      <th>588</th>\n",
              "      <td>2019-01-01</td>\n",
              "      <td>264112.208553</td>\n",
              "      <td>240175.344114</td>\n",
              "      <td>251556.300432</td>\n",
              "      <td>263892.362775</td>\n",
              "      <td>264414.195027</td>\n",
              "      <td>-18249.215278</td>\n",
              "      <td>-18249.215278</td>\n",
              "      <td>-18249.215278</td>\n",
              "      <td>-18249.215278</td>\n",
              "      <td>-18249.215278</td>\n",
              "      <td>-18249.215278</td>\n",
              "      <td>0.0</td>\n",
              "      <td>0.0</td>\n",
              "      <td>0.0</td>\n",
              "      <td>245862.993276</td>\n",
              "    </tr>\n",
              "    <tr>\n",
              "      <th>589</th>\n",
              "      <td>2019-02-01</td>\n",
              "      <td>264254.323889</td>\n",
              "      <td>231963.815094</td>\n",
              "      <td>243205.340426</td>\n",
              "      <td>263979.395318</td>\n",
              "      <td>264615.271072</td>\n",
              "      <td>-26745.042368</td>\n",
              "      <td>-26745.042368</td>\n",
              "      <td>-26745.042368</td>\n",
              "      <td>-26745.042368</td>\n",
              "      <td>-26745.042368</td>\n",
              "      <td>-26745.042368</td>\n",
              "      <td>0.0</td>\n",
              "      <td>0.0</td>\n",
              "      <td>0.0</td>\n",
              "      <td>237509.281521</td>\n",
              "    </tr>\n",
              "    <tr>\n",
              "      <th>590</th>\n",
              "      <td>2019-03-01</td>\n",
              "      <td>264382.686128</td>\n",
              "      <td>258559.994161</td>\n",
              "      <td>269571.411152</td>\n",
              "      <td>264086.287738</td>\n",
              "      <td>264785.854638</td>\n",
              "      <td>-398.346471</td>\n",
              "      <td>-398.346471</td>\n",
              "      <td>-398.346471</td>\n",
              "      <td>-398.346471</td>\n",
              "      <td>-398.346471</td>\n",
              "      <td>-398.346471</td>\n",
              "      <td>0.0</td>\n",
              "      <td>0.0</td>\n",
              "      <td>0.0</td>\n",
              "      <td>263984.339657</td>\n",
              "    </tr>\n",
              "    <tr>\n",
              "      <th>591</th>\n",
              "      <td>2019-04-01</td>\n",
              "      <td>264524.801464</td>\n",
              "      <td>258080.911649</td>\n",
              "      <td>270160.018607</td>\n",
              "      <td>264172.701521</td>\n",
              "      <td>264959.244198</td>\n",
              "      <td>-269.457961</td>\n",
              "      <td>-269.457961</td>\n",
              "      <td>-269.457961</td>\n",
              "      <td>-269.457961</td>\n",
              "      <td>-269.457961</td>\n",
              "      <td>-269.457961</td>\n",
              "      <td>0.0</td>\n",
              "      <td>0.0</td>\n",
              "      <td>0.0</td>\n",
              "      <td>264255.343504</td>\n",
              "    </tr>\n",
              "    <tr>\n",
              "      <th>592</th>\n",
              "      <td>2019-05-01</td>\n",
              "      <td>264662.332435</td>\n",
              "      <td>268282.469741</td>\n",
              "      <td>279380.982038</td>\n",
              "      <td>264248.525950</td>\n",
              "      <td>265153.826756</td>\n",
              "      <td>9334.358803</td>\n",
              "      <td>9334.358803</td>\n",
              "      <td>9334.358803</td>\n",
              "      <td>9334.358803</td>\n",
              "      <td>9334.358803</td>\n",
              "      <td>9334.358803</td>\n",
              "      <td>0.0</td>\n",
              "      <td>0.0</td>\n",
              "      <td>0.0</td>\n",
              "      <td>273996.691238</td>\n",
              "    </tr>\n",
              "    <tr>\n",
              "      <th>593</th>\n",
              "      <td>2019-06-01</td>\n",
              "      <td>264804.447771</td>\n",
              "      <td>268624.001637</td>\n",
              "      <td>280618.021799</td>\n",
              "      <td>264311.220969</td>\n",
              "      <td>265334.987198</td>\n",
              "      <td>9950.279696</td>\n",
              "      <td>9950.279696</td>\n",
              "      <td>9950.279696</td>\n",
              "      <td>9950.279696</td>\n",
              "      <td>9950.279696</td>\n",
              "      <td>9950.279696</td>\n",
              "      <td>0.0</td>\n",
              "      <td>0.0</td>\n",
              "      <td>0.0</td>\n",
              "      <td>274754.727466</td>\n",
              "    </tr>\n",
              "    <tr>\n",
              "      <th>594</th>\n",
              "      <td>2019-07-01</td>\n",
              "      <td>264941.978741</td>\n",
              "      <td>275778.345937</td>\n",
              "      <td>286929.510043</td>\n",
              "      <td>264390.792108</td>\n",
              "      <td>265519.844829</td>\n",
              "      <td>16202.881145</td>\n",
              "      <td>16202.881145</td>\n",
              "      <td>16202.881145</td>\n",
              "      <td>16202.881145</td>\n",
              "      <td>16202.881145</td>\n",
              "      <td>16202.881145</td>\n",
              "      <td>0.0</td>\n",
              "      <td>0.0</td>\n",
              "      <td>0.0</td>\n",
              "      <td>281144.859887</td>\n",
              "    </tr>\n",
              "    <tr>\n",
              "      <th>595</th>\n",
              "      <td>2019-08-01</td>\n",
              "      <td>265084.094077</td>\n",
              "      <td>276016.165386</td>\n",
              "      <td>287467.125699</td>\n",
              "      <td>264460.902932</td>\n",
              "      <td>265720.835785</td>\n",
              "      <td>16617.804881</td>\n",
              "      <td>16617.804881</td>\n",
              "      <td>16617.804881</td>\n",
              "      <td>16617.804881</td>\n",
              "      <td>16617.804881</td>\n",
              "      <td>16617.804881</td>\n",
              "      <td>0.0</td>\n",
              "      <td>0.0</td>\n",
              "      <td>0.0</td>\n",
              "      <td>281701.898959</td>\n",
              "    </tr>\n",
              "    <tr>\n",
              "      <th>596</th>\n",
              "      <td>2019-09-01</td>\n",
              "      <td>265226.209413</td>\n",
              "      <td>257402.013371</td>\n",
              "      <td>269504.884296</td>\n",
              "      <td>264533.153901</td>\n",
              "      <td>265933.431706</td>\n",
              "      <td>-1584.781347</td>\n",
              "      <td>-1584.781347</td>\n",
              "      <td>-1584.781347</td>\n",
              "      <td>-1584.781347</td>\n",
              "      <td>-1584.781347</td>\n",
              "      <td>-1584.781347</td>\n",
              "      <td>0.0</td>\n",
              "      <td>0.0</td>\n",
              "      <td>0.0</td>\n",
              "      <td>263641.428067</td>\n",
              "    </tr>\n",
              "    <tr>\n",
              "      <th>597</th>\n",
              "      <td>2019-10-01</td>\n",
              "      <td>265363.740384</td>\n",
              "      <td>264687.667199</td>\n",
              "      <td>276511.000545</td>\n",
              "      <td>264594.206709</td>\n",
              "      <td>266144.540279</td>\n",
              "      <td>5104.634149</td>\n",
              "      <td>5104.634149</td>\n",
              "      <td>5104.634149</td>\n",
              "      <td>5104.634149</td>\n",
              "      <td>5104.634149</td>\n",
              "      <td>5104.634149</td>\n",
              "      <td>0.0</td>\n",
              "      <td>0.0</td>\n",
              "      <td>0.0</td>\n",
              "      <td>270468.374533</td>\n",
              "    </tr>\n",
              "    <tr>\n",
              "      <th>598</th>\n",
              "      <td>2019-11-01</td>\n",
              "      <td>265505.855720</td>\n",
              "      <td>251871.701461</td>\n",
              "      <td>263198.285491</td>\n",
              "      <td>264680.379775</td>\n",
              "      <td>266337.079198</td>\n",
              "      <td>-8287.007693</td>\n",
              "      <td>-8287.007693</td>\n",
              "      <td>-8287.007693</td>\n",
              "      <td>-8287.007693</td>\n",
              "      <td>-8287.007693</td>\n",
              "      <td>-8287.007693</td>\n",
              "      <td>0.0</td>\n",
              "      <td>0.0</td>\n",
              "      <td>0.0</td>\n",
              "      <td>257218.848027</td>\n",
              "    </tr>\n",
              "    <tr>\n",
              "      <th>599</th>\n",
              "      <td>2019-12-01</td>\n",
              "      <td>265643.386690</td>\n",
              "      <td>252650.485716</td>\n",
              "      <td>264649.687630</td>\n",
              "      <td>264786.559576</td>\n",
              "      <td>266554.952253</td>\n",
              "      <td>-7066.815183</td>\n",
              "      <td>-7066.815183</td>\n",
              "      <td>-7066.815183</td>\n",
              "      <td>-7066.815183</td>\n",
              "      <td>-7066.815183</td>\n",
              "      <td>-7066.815183</td>\n",
              "      <td>0.0</td>\n",
              "      <td>0.0</td>\n",
              "      <td>0.0</td>\n",
              "      <td>258576.571507</td>\n",
              "    </tr>\n",
              "  </tbody>\n",
              "</table>\n",
              "</div>"
            ],
            "text/plain": [
              "            ds          trend  ...  multiplicative_terms_upper           yhat\n",
              "588 2019-01-01  264112.208553  ...                         0.0  245862.993276\n",
              "589 2019-02-01  264254.323889  ...                         0.0  237509.281521\n",
              "590 2019-03-01  264382.686128  ...                         0.0  263984.339657\n",
              "591 2019-04-01  264524.801464  ...                         0.0  264255.343504\n",
              "592 2019-05-01  264662.332435  ...                         0.0  273996.691238\n",
              "593 2019-06-01  264804.447771  ...                         0.0  274754.727466\n",
              "594 2019-07-01  264941.978741  ...                         0.0  281144.859887\n",
              "595 2019-08-01  265084.094077  ...                         0.0  281701.898959\n",
              "596 2019-09-01  265226.209413  ...                         0.0  263641.428067\n",
              "597 2019-10-01  265363.740384  ...                         0.0  270468.374533\n",
              "598 2019-11-01  265505.855720  ...                         0.0  257218.848027\n",
              "599 2019-12-01  265643.386690  ...                         0.0  258576.571507\n",
              "\n",
              "[12 rows x 16 columns]"
            ]
          },
          "metadata": {
            "tags": []
          },
          "execution_count": 35
        }
      ]
    },
    {
      "cell_type": "code",
      "metadata": {
        "id": "rC3oznRDLNTy",
        "colab_type": "code",
        "colab": {
          "base_uri": "https://localhost:8080/",
          "height": 34
        },
        "outputId": "3d87e497-7526-4e34-e50b-bdbf2230835a"
      },
      "source": [
        "mse = mean_squared_error(predictions['yhat'], test['y'])\n",
        "mse"
      ],
      "execution_count": 37,
      "outputs": [
        {
          "output_type": "execute_result",
          "data": {
            "text/plain": [
              "59087002.78351128"
            ]
          },
          "metadata": {
            "tags": []
          },
          "execution_count": 37
        }
      ]
    },
    {
      "cell_type": "code",
      "metadata": {
        "id": "Cliqo9tFLTZi",
        "colab_type": "code",
        "colab": {
          "base_uri": "https://localhost:8080/",
          "height": 34
        },
        "outputId": "0e866974-fa42-4c34-c264-0e9eda967f5f"
      },
      "source": [
        "import numpy as np\n",
        "\n",
        "rmse = np.sqrt(mse)\n",
        "rmse"
      ],
      "execution_count": 39,
      "outputs": [
        {
          "output_type": "execute_result",
          "data": {
            "text/plain": [
              "7686.807060380225"
            ]
          },
          "metadata": {
            "tags": []
          },
          "execution_count": 39
        }
      ]
    },
    {
      "cell_type": "code",
      "metadata": {
        "id": "NDB5gwhhLZPS",
        "colab_type": "code",
        "colab": {
          "base_uri": "https://localhost:8080/",
          "height": 34
        },
        "outputId": "6174914b-22b6-4b78-d708-6c9020b77d1c"
      },
      "source": [
        "test['y'].mean()"
      ],
      "execution_count": 40,
      "outputs": [
        {
          "output_type": "execute_result",
          "data": {
            "text/plain": [
              "268739.6666666667"
            ]
          },
          "metadata": {
            "tags": []
          },
          "execution_count": 40
        }
      ]
    },
    {
      "cell_type": "code",
      "metadata": {
        "id": "228acDQwLgiC",
        "colab_type": "code",
        "colab": {
          "base_uri": "https://localhost:8080/",
          "height": 34
        },
        "outputId": "77c36a70-d00d-4e0c-cf8e-fe5092c50be4"
      },
      "source": [
        "predictions['yhat'].mean()"
      ],
      "execution_count": 41,
      "outputs": [
        {
          "output_type": "execute_result",
          "data": {
            "text/plain": [
              "264426.27980336355"
            ]
          },
          "metadata": {
            "tags": []
          },
          "execution_count": 41
        }
      ]
    },
    {
      "cell_type": "code",
      "metadata": {
        "id": "KCxiTP_ELjVq",
        "colab_type": "code",
        "colab": {}
      },
      "source": [
        ""
      ],
      "execution_count": null,
      "outputs": []
    },
    {
      "cell_type": "markdown",
      "metadata": {
        "id": "dFGAsQpaR-fU",
        "colab_type": "text"
      },
      "source": [
        "## Cross Validation in Prophet\n",
        "Prophet includes functionality for time series cross validation to measure forecast error using historical data. This is done by selecting cutoff points in the history, and for each of them fitting the model using data only up to that cutoff point. We can then compare the forecasted values to the actual values."
      ]
    },
    {
      "cell_type": "code",
      "metadata": {
        "id": "lTa52OG3SA4I",
        "colab_type": "code",
        "colab": {}
      },
      "source": [
        "from fbprophet.diagnostics import cross_validation, performance_metrics\n",
        "from fbprophet.plot import plot_cross_validation_metric"
      ],
      "execution_count": 42,
      "outputs": []
    },
    {
      "cell_type": "code",
      "metadata": {
        "id": "w-0dH0n1SNsp",
        "colab_type": "code",
        "colab": {
          "base_uri": "https://localhost:8080/",
          "height": 34
        },
        "outputId": "5e1868af-4ac8-466a-b5f7-f5cb11e1b2b3"
      },
      "source": [
        "df.shape"
      ],
      "execution_count": 43,
      "outputs": [
        {
          "output_type": "execute_result",
          "data": {
            "text/plain": [
              "(588, 2)"
            ]
          },
          "metadata": {
            "tags": []
          },
          "execution_count": 43
        }
      ]
    },
    {
      "cell_type": "markdown",
      "metadata": {
        "id": "fxvTl5rFSTEj",
        "colab_type": "text"
      },
      "source": [
        "The initial period should be long enough to capture all of the components of the model, in particular seasonalities and extra regressors: at least a year for yearly seasonality, at least a week for weekly seasonality, etc."
      ]
    },
    {
      "cell_type": "code",
      "metadata": {
        "id": "BR7dhKMnSORv",
        "colab_type": "code",
        "colab": {
          "base_uri": "https://localhost:8080/",
          "height": 204
        },
        "outputId": "c70b95e4-71df-41b7-98a9-f58eea4f0026"
      },
      "source": [
        "df.head()"
      ],
      "execution_count": 44,
      "outputs": [
        {
          "output_type": "execute_result",
          "data": {
            "text/html": [
              "<div>\n",
              "<style scoped>\n",
              "    .dataframe tbody tr th:only-of-type {\n",
              "        vertical-align: middle;\n",
              "    }\n",
              "\n",
              "    .dataframe tbody tr th {\n",
              "        vertical-align: top;\n",
              "    }\n",
              "\n",
              "    .dataframe thead th {\n",
              "        text-align: right;\n",
              "    }\n",
              "</style>\n",
              "<table border=\"1\" class=\"dataframe\">\n",
              "  <thead>\n",
              "    <tr style=\"text-align: right;\">\n",
              "      <th></th>\n",
              "      <th>ds</th>\n",
              "      <th>y</th>\n",
              "    </tr>\n",
              "  </thead>\n",
              "  <tbody>\n",
              "    <tr>\n",
              "      <th>0</th>\n",
              "      <td>1970-01-01</td>\n",
              "      <td>80173.0</td>\n",
              "    </tr>\n",
              "    <tr>\n",
              "      <th>1</th>\n",
              "      <td>1970-02-01</td>\n",
              "      <td>77442.0</td>\n",
              "    </tr>\n",
              "    <tr>\n",
              "      <th>2</th>\n",
              "      <td>1970-03-01</td>\n",
              "      <td>90223.0</td>\n",
              "    </tr>\n",
              "    <tr>\n",
              "      <th>3</th>\n",
              "      <td>1970-04-01</td>\n",
              "      <td>89956.0</td>\n",
              "    </tr>\n",
              "    <tr>\n",
              "      <th>4</th>\n",
              "      <td>1970-05-01</td>\n",
              "      <td>97972.0</td>\n",
              "    </tr>\n",
              "  </tbody>\n",
              "</table>\n",
              "</div>"
            ],
            "text/plain": [
              "          ds        y\n",
              "0 1970-01-01  80173.0\n",
              "1 1970-02-01  77442.0\n",
              "2 1970-03-01  90223.0\n",
              "3 1970-04-01  89956.0\n",
              "4 1970-05-01  97972.0"
            ]
          },
          "metadata": {
            "tags": []
          },
          "execution_count": 44
        }
      ]
    },
    {
      "cell_type": "code",
      "metadata": {
        "id": "zeQ6SoQZSWz3",
        "colab_type": "code",
        "colab": {}
      },
      "source": [
        "# Initial 5 years training\n",
        "initial = str(5*365) + ' days'\n",
        "# Fold every 5 years\n",
        "period = str(5*365) + ' days'\n",
        "# Forecast 1 year \n",
        "horizon = str(365) + ' days'"
      ],
      "execution_count": 45,
      "outputs": []
    },
    {
      "cell_type": "code",
      "metadata": {
        "id": "wIrRG5MMSuAw",
        "colab_type": "code",
        "colab": {
          "base_uri": "https://localhost:8080/",
          "height": 34
        },
        "outputId": "5a8acd1b-543f-4d20-a67e-568362cae56f"
      },
      "source": [
        "df_cv = cross_validation(model, horizon=horizon, period=period, initial=initial)"
      ],
      "execution_count": 46,
      "outputs": [
        {
          "output_type": "stream",
          "text": [
            "INFO:fbprophet:Making 9 forecasts with cutoffs between 1976-12-11 00:00:00 and 2016-12-01 00:00:00\n"
          ],
          "name": "stderr"
        }
      ]
    },
    {
      "cell_type": "code",
      "metadata": {
        "id": "x2q04clpS2a3",
        "colab_type": "code",
        "colab": {
          "base_uri": "https://localhost:8080/",
          "height": 204
        },
        "outputId": "a3fe0fce-b1fd-4f33-f133-63c15100134e"
      },
      "source": [
        "df_cv.head()"
      ],
      "execution_count": 47,
      "outputs": [
        {
          "output_type": "execute_result",
          "data": {
            "text/html": [
              "<div>\n",
              "<style scoped>\n",
              "    .dataframe tbody tr th:only-of-type {\n",
              "        vertical-align: middle;\n",
              "    }\n",
              "\n",
              "    .dataframe tbody tr th {\n",
              "        vertical-align: top;\n",
              "    }\n",
              "\n",
              "    .dataframe thead th {\n",
              "        text-align: right;\n",
              "    }\n",
              "</style>\n",
              "<table border=\"1\" class=\"dataframe\">\n",
              "  <thead>\n",
              "    <tr style=\"text-align: right;\">\n",
              "      <th></th>\n",
              "      <th>ds</th>\n",
              "      <th>yhat</th>\n",
              "      <th>yhat_lower</th>\n",
              "      <th>yhat_upper</th>\n",
              "      <th>y</th>\n",
              "      <th>cutoff</th>\n",
              "    </tr>\n",
              "  </thead>\n",
              "  <tbody>\n",
              "    <tr>\n",
              "      <th>0</th>\n",
              "      <td>1977-01-01</td>\n",
              "      <td>108479.087306</td>\n",
              "      <td>106977.725966</td>\n",
              "      <td>109898.944845</td>\n",
              "      <td>102445.0</td>\n",
              "      <td>1976-12-11</td>\n",
              "    </tr>\n",
              "    <tr>\n",
              "      <th>1</th>\n",
              "      <td>1977-02-01</td>\n",
              "      <td>102996.111502</td>\n",
              "      <td>101646.497033</td>\n",
              "      <td>104386.668947</td>\n",
              "      <td>102416.0</td>\n",
              "      <td>1976-12-11</td>\n",
              "    </tr>\n",
              "    <tr>\n",
              "      <th>2</th>\n",
              "      <td>1977-03-01</td>\n",
              "      <td>118973.317944</td>\n",
              "      <td>117532.768912</td>\n",
              "      <td>120429.961303</td>\n",
              "      <td>119960.0</td>\n",
              "      <td>1976-12-11</td>\n",
              "    </tr>\n",
              "    <tr>\n",
              "      <th>3</th>\n",
              "      <td>1977-04-01</td>\n",
              "      <td>120612.923539</td>\n",
              "      <td>119189.345251</td>\n",
              "      <td>122124.971625</td>\n",
              "      <td>121513.0</td>\n",
              "      <td>1976-12-11</td>\n",
              "    </tr>\n",
              "    <tr>\n",
              "      <th>4</th>\n",
              "      <td>1977-05-01</td>\n",
              "      <td>127883.031663</td>\n",
              "      <td>126316.041512</td>\n",
              "      <td>129236.014843</td>\n",
              "      <td>128884.0</td>\n",
              "      <td>1976-12-11</td>\n",
              "    </tr>\n",
              "  </tbody>\n",
              "</table>\n",
              "</div>"
            ],
            "text/plain": [
              "          ds           yhat     yhat_lower     yhat_upper         y     cutoff\n",
              "0 1977-01-01  108479.087306  106977.725966  109898.944845  102445.0 1976-12-11\n",
              "1 1977-02-01  102996.111502  101646.497033  104386.668947  102416.0 1976-12-11\n",
              "2 1977-03-01  118973.317944  117532.768912  120429.961303  119960.0 1976-12-11\n",
              "3 1977-04-01  120612.923539  119189.345251  122124.971625  121513.0 1976-12-11\n",
              "4 1977-05-01  127883.031663  126316.041512  129236.014843  128884.0 1976-12-11"
            ]
          },
          "metadata": {
            "tags": []
          },
          "execution_count": 47
        }
      ]
    },
    {
      "cell_type": "code",
      "metadata": {
        "id": "AzQvrjJqS8SQ",
        "colab_type": "code",
        "colab": {
          "base_uri": "https://localhost:8080/",
          "height": 204
        },
        "outputId": "639dffae-2e09-4121-f99e-dc270d28439e"
      },
      "source": [
        "df_cv.tail()"
      ],
      "execution_count": 48,
      "outputs": [
        {
          "output_type": "execute_result",
          "data": {
            "text/html": [
              "<div>\n",
              "<style scoped>\n",
              "    .dataframe tbody tr th:only-of-type {\n",
              "        vertical-align: middle;\n",
              "    }\n",
              "\n",
              "    .dataframe tbody tr th {\n",
              "        vertical-align: top;\n",
              "    }\n",
              "\n",
              "    .dataframe thead th {\n",
              "        text-align: right;\n",
              "    }\n",
              "</style>\n",
              "<table border=\"1\" class=\"dataframe\">\n",
              "  <thead>\n",
              "    <tr style=\"text-align: right;\">\n",
              "      <th></th>\n",
              "      <th>ds</th>\n",
              "      <th>yhat</th>\n",
              "      <th>yhat_lower</th>\n",
              "      <th>yhat_upper</th>\n",
              "      <th>y</th>\n",
              "      <th>cutoff</th>\n",
              "    </tr>\n",
              "  </thead>\n",
              "  <tbody>\n",
              "    <tr>\n",
              "      <th>103</th>\n",
              "      <td>2017-08-01</td>\n",
              "      <td>273614.230765</td>\n",
              "      <td>267853.925720</td>\n",
              "      <td>279246.324364</td>\n",
              "      <td>283184.0</td>\n",
              "      <td>2016-12-01</td>\n",
              "    </tr>\n",
              "    <tr>\n",
              "      <th>104</th>\n",
              "      <td>2017-09-01</td>\n",
              "      <td>255737.189562</td>\n",
              "      <td>249958.774336</td>\n",
              "      <td>261283.108313</td>\n",
              "      <td>262673.0</td>\n",
              "      <td>2016-12-01</td>\n",
              "    </tr>\n",
              "    <tr>\n",
              "      <th>105</th>\n",
              "      <td>2017-10-01</td>\n",
              "      <td>262845.616157</td>\n",
              "      <td>257076.256344</td>\n",
              "      <td>268425.368496</td>\n",
              "      <td>278937.0</td>\n",
              "      <td>2016-12-01</td>\n",
              "    </tr>\n",
              "    <tr>\n",
              "      <th>106</th>\n",
              "      <td>2017-11-01</td>\n",
              "      <td>249500.895087</td>\n",
              "      <td>243958.316469</td>\n",
              "      <td>255298.234943</td>\n",
              "      <td>257712.0</td>\n",
              "      <td>2016-12-01</td>\n",
              "    </tr>\n",
              "    <tr>\n",
              "      <th>107</th>\n",
              "      <td>2017-12-01</td>\n",
              "      <td>250750.668713</td>\n",
              "      <td>244891.245979</td>\n",
              "      <td>256594.121717</td>\n",
              "      <td>266535.0</td>\n",
              "      <td>2016-12-01</td>\n",
              "    </tr>\n",
              "  </tbody>\n",
              "</table>\n",
              "</div>"
            ],
            "text/plain": [
              "            ds           yhat  ...         y     cutoff\n",
              "103 2017-08-01  273614.230765  ...  283184.0 2016-12-01\n",
              "104 2017-09-01  255737.189562  ...  262673.0 2016-12-01\n",
              "105 2017-10-01  262845.616157  ...  278937.0 2016-12-01\n",
              "106 2017-11-01  249500.895087  ...  257712.0 2016-12-01\n",
              "107 2017-12-01  250750.668713  ...  266535.0 2016-12-01\n",
              "\n",
              "[5 rows x 6 columns]"
            ]
          },
          "metadata": {
            "tags": []
          },
          "execution_count": 48
        }
      ]
    },
    {
      "cell_type": "code",
      "metadata": {
        "id": "LMeU2fmuS9zI",
        "colab_type": "code",
        "colab": {
          "base_uri": "https://localhost:8080/",
          "height": 419
        },
        "outputId": "94778165-bd28-483f-80b9-753b5510d844"
      },
      "source": [
        "performance_metrics(df_cv)"
      ],
      "execution_count": 49,
      "outputs": [
        {
          "output_type": "execute_result",
          "data": {
            "text/html": [
              "<div>\n",
              "<style scoped>\n",
              "    .dataframe tbody tr th:only-of-type {\n",
              "        vertical-align: middle;\n",
              "    }\n",
              "\n",
              "    .dataframe tbody tr th {\n",
              "        vertical-align: top;\n",
              "    }\n",
              "\n",
              "    .dataframe thead th {\n",
              "        text-align: right;\n",
              "    }\n",
              "</style>\n",
              "<table border=\"1\" class=\"dataframe\">\n",
              "  <thead>\n",
              "    <tr style=\"text-align: right;\">\n",
              "      <th></th>\n",
              "      <th>horizon</th>\n",
              "      <th>mse</th>\n",
              "      <th>rmse</th>\n",
              "      <th>mae</th>\n",
              "      <th>mape</th>\n",
              "      <th>mdape</th>\n",
              "      <th>coverage</th>\n",
              "    </tr>\n",
              "  </thead>\n",
              "  <tbody>\n",
              "    <tr>\n",
              "      <th>0</th>\n",
              "      <td>52 days</td>\n",
              "      <td>2.402227e+07</td>\n",
              "      <td>4901.251892</td>\n",
              "      <td>4506.384371</td>\n",
              "      <td>0.027631</td>\n",
              "      <td>0.023593</td>\n",
              "      <td>0.4</td>\n",
              "    </tr>\n",
              "    <tr>\n",
              "      <th>1</th>\n",
              "      <td>53 days</td>\n",
              "      <td>2.150811e+07</td>\n",
              "      <td>4637.683407</td>\n",
              "      <td>4238.662732</td>\n",
              "      <td>0.024863</td>\n",
              "      <td>0.023593</td>\n",
              "      <td>0.4</td>\n",
              "    </tr>\n",
              "    <tr>\n",
              "      <th>2</th>\n",
              "      <td>54 days</td>\n",
              "      <td>1.807689e+07</td>\n",
              "      <td>4251.692535</td>\n",
              "      <td>3708.943275</td>\n",
              "      <td>0.019933</td>\n",
              "      <td>0.022278</td>\n",
              "      <td>0.5</td>\n",
              "    </tr>\n",
              "    <tr>\n",
              "      <th>3</th>\n",
              "      <td>55 days</td>\n",
              "      <td>2.298205e+07</td>\n",
              "      <td>4793.960154</td>\n",
              "      <td>4236.275244</td>\n",
              "      <td>0.023042</td>\n",
              "      <td>0.023593</td>\n",
              "      <td>0.4</td>\n",
              "    </tr>\n",
              "    <tr>\n",
              "      <th>4</th>\n",
              "      <td>57 days</td>\n",
              "      <td>2.078937e+07</td>\n",
              "      <td>4559.535784</td>\n",
              "      <td>3972.087270</td>\n",
              "      <td>0.021317</td>\n",
              "      <td>0.022278</td>\n",
              "      <td>0.5</td>\n",
              "    </tr>\n",
              "    <tr>\n",
              "      <th>...</th>\n",
              "      <td>...</td>\n",
              "      <td>...</td>\n",
              "      <td>...</td>\n",
              "      <td>...</td>\n",
              "      <td>...</td>\n",
              "      <td>...</td>\n",
              "      <td>...</td>\n",
              "    </tr>\n",
              "    <tr>\n",
              "      <th>94</th>\n",
              "      <td>360 days</td>\n",
              "      <td>1.814608e+07</td>\n",
              "      <td>4259.821515</td>\n",
              "      <td>3750.359483</td>\n",
              "      <td>0.019596</td>\n",
              "      <td>0.019565</td>\n",
              "      <td>0.5</td>\n",
              "    </tr>\n",
              "    <tr>\n",
              "      <th>95</th>\n",
              "      <td>361 days</td>\n",
              "      <td>1.726110e+07</td>\n",
              "      <td>4154.647536</td>\n",
              "      <td>3473.037339</td>\n",
              "      <td>0.018212</td>\n",
              "      <td>0.018957</td>\n",
              "      <td>0.5</td>\n",
              "    </tr>\n",
              "    <tr>\n",
              "      <th>96</th>\n",
              "      <td>362 days</td>\n",
              "      <td>3.173990e+07</td>\n",
              "      <td>5633.817508</td>\n",
              "      <td>4404.300729</td>\n",
              "      <td>0.022034</td>\n",
              "      <td>0.024793</td>\n",
              "      <td>0.4</td>\n",
              "    </tr>\n",
              "    <tr>\n",
              "      <th>97</th>\n",
              "      <td>364 days</td>\n",
              "      <td>2.986513e+07</td>\n",
              "      <td>5464.900040</td>\n",
              "      <td>4229.869860</td>\n",
              "      <td>0.021378</td>\n",
              "      <td>0.021629</td>\n",
              "      <td>0.5</td>\n",
              "    </tr>\n",
              "    <tr>\n",
              "      <th>98</th>\n",
              "      <td>365 days</td>\n",
              "      <td>5.443147e+07</td>\n",
              "      <td>7377.768377</td>\n",
              "      <td>5621.707803</td>\n",
              "      <td>0.026524</td>\n",
              "      <td>0.024793</td>\n",
              "      <td>0.4</td>\n",
              "    </tr>\n",
              "  </tbody>\n",
              "</table>\n",
              "<p>99 rows × 7 columns</p>\n",
              "</div>"
            ],
            "text/plain": [
              "    horizon           mse         rmse  ...      mape     mdape  coverage\n",
              "0   52 days  2.402227e+07  4901.251892  ...  0.027631  0.023593       0.4\n",
              "1   53 days  2.150811e+07  4637.683407  ...  0.024863  0.023593       0.4\n",
              "2   54 days  1.807689e+07  4251.692535  ...  0.019933  0.022278       0.5\n",
              "3   55 days  2.298205e+07  4793.960154  ...  0.023042  0.023593       0.4\n",
              "4   57 days  2.078937e+07  4559.535784  ...  0.021317  0.022278       0.5\n",
              "..      ...           ...          ...  ...       ...       ...       ...\n",
              "94 360 days  1.814608e+07  4259.821515  ...  0.019596  0.019565       0.5\n",
              "95 361 days  1.726110e+07  4154.647536  ...  0.018212  0.018957       0.5\n",
              "96 362 days  3.173990e+07  5633.817508  ...  0.022034  0.024793       0.4\n",
              "97 364 days  2.986513e+07  5464.900040  ...  0.021378  0.021629       0.5\n",
              "98 365 days  5.443147e+07  7377.768377  ...  0.026524  0.024793       0.4\n",
              "\n",
              "[99 rows x 7 columns]"
            ]
          },
          "metadata": {
            "tags": []
          },
          "execution_count": 49
        }
      ]
    },
    {
      "cell_type": "code",
      "metadata": {
        "id": "UOkVRvHrTEaA",
        "colab_type": "code",
        "colab": {
          "base_uri": "https://localhost:8080/",
          "height": 388
        },
        "outputId": "0a1bb378-0f14-4083-e472-d34b86cc2049"
      },
      "source": [
        "plot_cross_validation_metric(df_cv, metric='rmse');"
      ],
      "execution_count": 50,
      "outputs": [
        {
          "output_type": "display_data",
          "data": {
            "image/png": "[encoded data removed]",
            "text/plain": [
              "<Figure size 720x432 with 1 Axes>"
            ]
          },
          "metadata": {
            "tags": []
          }
        }
      ]
    },
    {
      "cell_type": "code",
      "metadata": {
        "id": "OeUrfPxCTIog",
        "colab_type": "code",
        "colab": {
          "base_uri": "https://localhost:8080/",
          "height": 388
        },
        "outputId": "c40271cb-744a-4c27-9d46-5c4b5ddac7a7"
      },
      "source": [
        "plot_cross_validation_metric(df_cv, metric='mape');# MAPE is Mean Absolute Percentage Error"
      ],
      "execution_count": 51,
      "outputs": [
        {
          "output_type": "display_data",
          "data": {
            "image/png": "[encoded data removed]",
            "text/plain": [
              "<Figure size 720x432 with 1 Axes>"
            ]
          },
          "metadata": {
            "tags": []
          }
        }
      ]
    },
    {
      "cell_type": "code",
      "metadata": {
        "id": "FabygpdeTOHv",
        "colab_type": "code",
        "colab": {}
      },
      "source": [
        ""
      ],
      "execution_count": null,
      "outputs": []
    }
  ]
}