{
 "cells": [
  {
   "cell_type": "markdown",
   "metadata": {},
   "source": [
    "# Choosing ARIMA Order p, d, q\n",
    "\n",
    "Before we can apply an ARIMA forecasting model, we need to review the components of one.<br>\n",
    "ARIMA, or Autoregressive Independent Moving Average is actually a combination of 3 models:\n",
    "* <strong>AR(p)</strong> Autoregression - a regression model that utilizes the dependent relationship between a current observation and observations over a previous period.\n",
    "* <strong>I(d)</strong> Integration - uses differencing of observations (subtracting an observation from an observation at the previous time step) in order to make the time series stationary\n",
    "* <strong>MA(q)</strong> Moving Average - a model that uses the dependency between an observation and a residual error from a moving average model applied to lagged observations.\n",
    "\n",
    "<div class=\"alert alert-info\"><h3>Related Functions:</h3>\n",
    "<tt>\n",
    "<strong>\n",
    "<a href='https://www.alkaline-ml.com/pmdarima/user_guide.html#user-guide'>pmdarima.auto_arima</a></strong><font color=black>(y[,start_p,d,start_q, …])</font>&nbsp;&nbsp;&nbsp;Returns the optimal order for an ARIMA model<br>\n",
    "\n",
    "<h3>Optional Function (see note below):</h3>\n",
    "<strong>\n",
    "<a href='https://www.statsmodels.org/stable/generated/statsmodels.tsa.stattools.arma_order_select_ic.html'>stattools.arma_order_select_ic</a></strong><font color=black>(y[, max_ar, …])</font>&nbsp;&nbsp;Returns information criteria for many ARMA models<br><strong>\n",
    "<a href='https://www.statsmodels.org/stable/generated/statsmodels.tsa.x13.x13_arima_select_order.html'>x13.x13_arima_select_order</a></strong><font color=black>(endog[, …])</font>&nbsp;&nbsp;&nbsp;&nbsp;&nbsp;&nbsp;&nbsp;&nbsp;&nbsp;&nbsp;Perform automatic seasonal ARIMA order identification using x12/x13 ARIMA</tt></div>"
   ]
  },
  {
   "cell_type": "markdown",
   "metadata": {},
   "source": [
    "## Load dataset\n",
    "Stionary vs. non-stationary"
   ]
  },
  {
   "cell_type": "code",
   "execution_count": 1,
   "metadata": {},
   "outputs": [],
   "source": [
    "import numpy as np\n",
    "import pandas as pd\n",
    "import matplotlib.pyplot as plt\n",
    "import seaborn as sns\n",
    "sns.set()\n",
    "%matplotlib inline"
   ]
  },
  {
   "cell_type": "code",
   "execution_count": 2,
   "metadata": {},
   "outputs": [],
   "source": [
    "# Load a seasonal dataset\n",
    "df1 = pd.read_csv('Dataset\\Airline_passengers.csv',index_col='Month',parse_dates=True)\n",
    "df1.index.freq = 'MS'\n",
    "\n",
    "# Load a stationary dataset\n",
    "df2 = pd.read_csv('Dataset\\DailyTotalFemaleBirths.csv',index_col='Date',parse_dates=True)\n",
    "df2.index.freq = 'D'"
   ]
  },
  {
   "cell_type": "code",
   "execution_count": 10,
   "metadata": {},
   "outputs": [
    {
     "output_type": "execute_result",
     "data": {
      "text/plain": "Births    0\ndtype: int64"
     },
     "metadata": {},
     "execution_count": 10
    }
   ],
   "source": [
    "df2.isnull().sum()"
   ]
  },
  {
   "cell_type": "markdown",
   "metadata": {},
   "source": [
    "## pmdarima auto_arima\n",
    "\n",
    "This is a third-party tool separate from statsmodels. It should already be installed if you're using our virtual environment. If not, then at a terminal run:<br>\n",
    "&nbsp;&nbsp;&nbsp;&nbsp;<tt>pip install pmdarima</tt>"
   ]
  },
  {
   "cell_type": "code",
   "execution_count": 4,
   "metadata": {},
   "outputs": [],
   "source": [
    "from pmdarima import auto_arima"
   ]
  },
  {
   "cell_type": "code",
   "execution_count": 5,
   "metadata": {
    "tags": []
   },
   "outputs": [
    {
     "output_type": "stream",
     "name": "stdout",
     "text": "Help on function auto_arima in module pmdarima.arima.auto:\n\nauto_arima(y, exogenous=None, start_p=2, d=None, start_q=2, max_p=5, max_d=2, max_q=5, start_P=1, D=None, start_Q=1, max_P=2, max_D=1, max_Q=2, max_order=5, m=1, seasonal=True, stationary=False, information_criterion='aic', alpha=0.05, test='kpss', seasonal_test='ocsb', stepwise=True, n_jobs=1, start_params=None, trend=None, method='lbfgs', maxiter=50, offset_test_args=None, seasonal_test_args=None, suppress_warnings=False, error_action='trace', trace=False, random=False, random_state=None, n_fits=10, return_valid_fits=False, out_of_sample_size=0, scoring='mse', scoring_args=None, with_intercept=True, sarimax_kwargs=None, **fit_args)\n    Automatically discover the optimal order for an ARIMA model.\n    \n    The auto-ARIMA process seeks to identify the most optimal\n    parameters for an ``ARIMA`` model, settling on a single fitted ARIMA model.\n    This process is based on the commonly-used R function,\n    ``forecast::auto.arima`` [3].\n    \n    Auto-ARIMA works by conducting differencing tests (i.e.,\n    Kwiatkowski–Phillips–Schmidt–Shin, Augmented Dickey-Fuller or\n    Phillips–Perron) to determine the order of differencing, ``d``, and then\n    fitting models within ranges of defined ``start_p``, ``max_p``,\n    ``start_q``, ``max_q`` ranges. If the ``seasonal`` optional is enabled,\n    auto-ARIMA also seeks to identify the optimal ``P`` and ``Q`` hyper-\n    parameters after conducting the Canova-Hansen to determine the optimal\n    order of seasonal differencing, ``D``.\n    \n    In order to find the best model, auto-ARIMA optimizes for a given\n    ``information_criterion``, one of ('aic', 'aicc', 'bic', 'hqic', 'oob')\n    (Akaike Information Criterion, Corrected Akaike Information Criterion,\n    Bayesian Information Criterion, Hannan-Quinn Information Criterion, or\n    \"out of bag\"--for validation scoring--respectively) and returns the ARIMA\n    which minimizes the value.\n    \n    Note that due to stationarity issues, auto-ARIMA might not find a\n    suitable model that will converge. If this is the case, a ``ValueError``\n    will be thrown suggesting stationarity-inducing measures be taken prior\n    to re-fitting or that a new range of ``order`` values be selected. Non-\n    stepwise (i.e., essentially a grid search) selection can be slow,\n    especially for seasonal data. Stepwise algorithm is outlined in Hyndman and\n    Khandakar (2008).\n    \n    Parameters\n    ----------\n    y : array-like or iterable, shape=(n_samples,)\n        The time-series to which to fit the ``ARIMA`` estimator. This may\n        either be a Pandas ``Series`` object (statsmodels can internally\n        use the dates in the index), or a numpy array. This should be a\n        one-dimensional array of floats, and should not contain any\n        ``np.nan`` or ``np.inf`` values.\n    \n    exogenous : array-like, shape=[n_obs, n_vars], optional (default=None)\n        An optional 2-d array of exogenous variables. If provided, these\n        variables are used as additional features in the regression\n        operation. This should not include a constant or trend. Note that\n        if an ``ARIMA`` is fit on exogenous features, it must be provided\n        exogenous features for making predictions.\n    \n    start_p : int, optional (default=2)\n        The starting value of ``p``, the order (or number of time lags)\n        of the auto-regressive (\"AR\") model. Must be a positive integer.\n    \n    d : int, optional (default=None)\n        The order of first-differencing. If None (by default), the value\n        will automatically be selected based on the results of the ``test``\n        (i.e., either the Kwiatkowski–Phillips–Schmidt–Shin, Augmented\n        Dickey-Fuller or the Phillips–Perron test will be conducted to find\n        the most probable value). Must be a positive integer or None. Note\n        that if ``d`` is None, the runtime could be significantly longer.\n    \n    start_q : int, optional (default=2)\n        The starting value of ``q``, the order of the moving-average\n        (\"MA\") model. Must be a positive integer.\n    \n    max_p : int, optional (default=5)\n        The maximum value of ``p``, inclusive. Must be a positive integer\n        greater than or equal to ``start_p``.\n    \n    max_d : int, optional (default=2)\n        The maximum value of ``d``, or the maximum number of non-seasonal\n        differences. Must be a positive integer greater than or equal to ``d``.\n    \n    max_q : int, optional (default=5)\n        The maximum value of ``q``, inclusive. Must be a positive integer\n        greater than ``start_q``.\n    \n    start_P : int, optional (default=1)\n        The starting value of ``P``, the order of the auto-regressive portion\n        of the seasonal model.\n    \n    D : int, optional (default=None)\n        The order of the seasonal differencing. If None (by default, the value\n        will automatically be selected based on the results of the\n        ``seasonal_test``. Must be a positive integer or None.\n    \n    start_Q : int, optional (default=1)\n        The starting value of ``Q``, the order of the moving-average portion\n        of the seasonal model.\n    \n    max_P : int, optional (default=2)\n        The maximum value of ``P``, inclusive. Must be a positive integer\n        greater than ``start_P``.\n    \n    max_D : int, optional (default=1)\n        The maximum value of ``D``. Must be a positive integer greater\n        than ``D``.\n    \n    max_Q : int, optional (default=2)\n        The maximum value of ``Q``, inclusive. Must be a positive integer\n        greater than ``start_Q``.\n    \n    max_order : int, optional (default=5)\n        Maximum value of p+q+P+Q if model selection is not stepwise.\n        If the sum of ``p`` and ``q`` is >= ``max_order``, a model will\n        *not* be fit with those parameters, but will progress to the next\n        combination. Default is 5. If ``max_order`` is None, it means there\n        are no constraints on maximum order.\n    \n    m : int, optional (default=1)\n        The period for seasonal differencing, ``m`` refers to the number of\n        periods in each season. For example, ``m`` is 4 for quarterly data, 12\n        for monthly data, or 1 for annual (non-seasonal) data. Default is 1.\n        Note that if ``m`` == 1 (i.e., is non-seasonal), ``seasonal`` will be\n        set to False. For more information on setting this parameter, see\n        :ref:`period`.\n    \n    seasonal : bool, optional (default=True)\n        Whether to fit a seasonal ARIMA. Default is True. Note that if\n        ``seasonal`` is True and ``m`` == 1, ``seasonal`` will be set to False.\n    \n    stationary : bool, optional (default=False)\n        Whether the time-series is stationary and ``d`` should be set to zero.\n    \n    information_criterion : str, optional (default='aic')\n        The information criterion used to select the best ARIMA model. One of\n        ``pmdarima.arima.auto_arima.VALID_CRITERIA``, ('aic', 'bic', 'hqic',\n        'oob').\n    \n    alpha : float, optional (default=0.05)\n        Level of the test for testing significance.\n    \n    test : str, optional (default='kpss')\n        Type of unit root test to use in order to detect stationarity if\n        ``stationary`` is False and ``d`` is None. Default is 'kpss'\n        (Kwiatkowski–Phillips–Schmidt–Shin).\n    \n    seasonal_test : str, optional (default='ocsb')\n        This determines which seasonal unit root test is used if ``seasonal``\n        is True and ``D`` is None. Default is 'OCSB'.\n    \n    stepwise : bool, optional (default=True)\n        Whether to use the stepwise algorithm outlined in Hyndman and Khandakar\n        (2008) to identify the optimal model parameters. The stepwise algorithm\n        can be significantly faster than fitting all (or a ``random`` subset\n        of) hyper-parameter combinations and is less likely to over-fit\n        the model.\n    \n    n_jobs : int, optional (default=1)\n        The number of models to fit in parallel in the case of a grid search\n        (``stepwise=False``). Default is 1, but -1 can be used to designate\n        \"as many as possible\".\n    \n    start_params : array-like, optional (default=None)\n        Starting parameters for ``ARMA(p,q)``.  If None, the default is given\n        by ``ARMA._fit_start_params``.\n    \n    method : str, optional (default='lbfgs')\n        The ``method`` determines which solver from ``scipy.optimize``\n        is used, and it can be chosen from among the following strings:\n    \n        - 'newton' for Newton-Raphson\n        - 'nm' for Nelder-Mead\n        - 'bfgs' for Broyden-Fletcher-Goldfarb-Shanno (BFGS)\n        - 'lbfgs' for limited-memory BFGS with optional box constraints\n        - 'powell' for modified Powell's method\n        - 'cg' for conjugate gradient\n        - 'ncg' for Newton-conjugate gradient\n        - 'basinhopping' for global basin-hopping solver\n    \n        The explicit arguments in ``fit`` are passed to the solver,\n        with the exception of the basin-hopping solver. Each\n        solver has several optional arguments that are not the same across\n        solvers. These can be passed as **fit_kwargs\n    \n    trend : str or None, optional (default=None)\n        The trend parameter. If ``with_intercept`` is True, ``trend`` will be\n        used. If ``with_intercept`` is False, the trend will be set to a no-\n        intercept value.\n    \n    maxiter : int, optional (default=50)\n        The maximum number of function evaluations. Default is 50.\n    \n    offset_test_args : dict, optional (default=None)\n        The args to pass to the constructor of the offset (``d``) test. See\n        ``pmdarima.arima.stationarity`` for more details.\n    \n    seasonal_test_args : dict, optional (default=None)\n        The args to pass to the constructor of the seasonal offset (``D``)\n        test. See ``pmdarima.arima.seasonality`` for more details.\n    \n    suppress_warnings : bool, optional (default=False)\n        Many warnings might be thrown inside of statsmodels. If\n        ``suppress_warnings`` is True, all of the warnings coming from\n        ``ARIMA`` will be squelched.\n    \n    error_action : str, optional (default='warn')\n        If unable to fit an ``ARIMA`` due to stationarity issues, whether to\n        warn ('warn'), raise the ``ValueError`` ('raise') or ignore ('ignore').\n        Note that the default behavior is to warn, and fits that fail will be\n        returned as None. This is the recommended behavior, as statsmodels\n        ARIMA and SARIMAX models hit bugs periodically that can cause\n        an otherwise healthy parameter combination to fail for reasons not\n        related to pmdarima.\n    \n    trace : bool or int, optional (default=False)\n        Whether to print status on the fits. A value of False will print no\n        debugging information. A value of True will print some. Integer values\n        exceeding 1 will print increasing amounts of debug information at each\n        fit.\n    \n    random : bool, optional (default=False)\n        Similar to grid searches, ``auto_arima`` provides the capability to\n        perform a \"random search\" over a hyper-parameter space. If ``random``\n        is True, rather than perform an exhaustive search or ``stepwise``\n        search, only ``n_fits`` ARIMA models will be fit (``stepwise`` must be\n        False for this option to do anything).\n    \n    random_state : int, long or numpy ``RandomState``, optional (default=None)\n        The PRNG for when ``random=True``. Ensures replicable testing and\n        results.\n    \n    n_fits : int, optional (default=10)\n        If ``random`` is True and a \"random search\" is going to be performed,\n        ``n_iter`` is the number of ARIMA models to be fit.\n    \n    return_valid_fits : bool, optional (default=False)\n        If True, will return all valid ARIMA fits in a list. If False (by\n        default), will only return the best fit.\n    \n    out_of_sample_size : int, optional (default=0)\n        The ``ARIMA`` class can fit only a portion of the data if specified,\n        in order to retain an \"out of bag\" sample score. This is the\n        number of examples from the tail of the time series to hold out\n        and use as validation examples. The model will not be fit on these\n        samples, but the observations will be added into the model's ``endog``\n        and ``exog`` arrays so that future forecast values originate from the\n        end of the endogenous vector.\n    \n        For instance::\n    \n            y = [0, 1, 2, 3, 4, 5, 6]\n            out_of_sample_size = 2\n    \n            > Fit on: [0, 1, 2, 3, 4]\n            > Score on: [5, 6]\n            > Append [5, 6] to end of self.arima_res_.data.endog values\n    \n    scoring : str, optional (default='mse')\n        If performing validation (i.e., if ``out_of_sample_size`` > 0), the\n        metric to use for scoring the out-of-sample data. One of ('mse', 'mae')\n    \n    scoring_args : dict, optional (default=None)\n        A dictionary of key-word arguments to be passed to the ``scoring``\n        metric.\n    \n    with_intercept : bool, optional (default=True)\n        Whether to include an intercept term. Default is True.\n    \n    \n    sarimax_kwargs : dict or None, optional (default=None)\n        Keyword arguments to pass to the ARIMA constructor.\n    \n    \n    **fit_args : dict, optional (default=None)\n        A dictionary of keyword arguments to pass to the :func:`ARIMA.fit`\n        method.\n    \n    See Also\n    --------\n    :func:`pmdarima.arima.ARIMA`\n    \n    Notes\n    -----\n    * Fitting with `stepwise=False` can prove slower, especially when\n      `seasonal=True`.\n    \n    References\n    ----------\n    .. [1] https://wikipedia.org/wiki/Autoregressive_integrated_moving_average\n    .. [2] R's auto-arima source code: https://github.com/robjhyndman/forecast/blob/master/R/arima.R\n    .. [3] R's auto-arima documentation: https://www.rdocumentation.org/packages/forecast\n\n"
    }
   ],
   "source": [
    "help(auto_arima)"
   ]
  },
  {
   "cell_type": "markdown",
   "metadata": {},
   "source": [
    "### Stationary dataset"
   ]
  },
  {
   "cell_type": "code",
   "execution_count": 6,
   "metadata": {
    "tags": []
   },
   "outputs": [
    {
     "output_type": "stream",
     "name": "stdout",
     "text": "Performing stepwise search to minimize aic\nFit ARIMA(0,1,0)x(0,0,0,0) [intercept=True]; AIC=2650.760, BIC=2658.555, Time=1.032 seconds\nFit ARIMA(1,1,0)x(0,0,0,0) [intercept=True]; AIC=2565.234, BIC=2576.925, Time=0.153 seconds\nFit ARIMA(0,1,1)x(0,0,0,0) [intercept=True]; AIC=2463.584, BIC=2475.275, Time=0.313 seconds\nFit ARIMA(0,1,0)x(0,0,0,0) [intercept=False]; AIC=2648.768, BIC=2652.665, Time=0.022 seconds\nFit ARIMA(1,1,1)x(0,0,0,0) [intercept=True]; AIC=2460.154, BIC=2475.743, Time=0.494 seconds\nFit ARIMA(2,1,1)x(0,0,0,0) [intercept=True]; AIC=2461.271, BIC=2480.757, Time=0.773 seconds\nC:\\Users\\User\\miniconda3\\envs\\ds\\lib\\site-packages\\statsmodels\\base\\model.py:567: ConvergenceWarning: Maximum Likelihood optimization failed to converge. Check mle_retvals\n  warn(\"Maximum Likelihood optimization failed to converge. \"\nFit ARIMA(1,1,2)x(0,0,0,0) [intercept=True]; AIC=2460.750, BIC=2480.236, Time=1.607 seconds\nNear non-invertible roots for order (1, 1, 2)(0, 0, 0, 0); setting score to inf (at least one inverse root too close to the border of the unit circle: 0.996)\nFit ARIMA(0,1,2)x(0,0,0,0) [intercept=True]; AIC=2460.722, BIC=2476.311, Time=0.583 seconds\nFit ARIMA(2,1,0)x(0,0,0,0) [intercept=True]; AIC=2536.154, BIC=2551.742, Time=0.364 seconds\nFit ARIMA(2,1,2)x(0,0,0,0) [intercept=True]; AIC=2463.048, BIC=2486.431, Time=1.688 seconds\nTotal fit time: 7.055 seconds\nC:\\Users\\User\\miniconda3\\envs\\ds\\lib\\site-packages\\statsmodels\\base\\model.py:567: ConvergenceWarning: Maximum Likelihood optimization failed to converge. Check mle_retvals\n  warn(\"Maximum Likelihood optimization failed to converge. \"\n"
    }
   ],
   "source": [
    "stepwise_fit = auto_arima(df2['Births'], start_p = 0, start_q=0, max_p = 6, max_q = 3, seasonal=False, trace=True)"
   ]
  },
  {
   "cell_type": "code",
   "execution_count": 8,
   "metadata": {},
   "outputs": [
    {
     "output_type": "execute_result",
     "data": {
      "text/plain": "<class 'statsmodels.iolib.summary.Summary'>\n\"\"\"\n                               SARIMAX Results                                \n==============================================================================\nDep. Variable:                      y   No. Observations:                  365\nModel:               SARIMAX(1, 1, 1)   Log Likelihood               -1226.077\nDate:                Fri, 03 Jul 2020   AIC                           2460.154\nTime:                        19:16:40   BIC                           2475.743\nSample:                             0   HQIC                          2466.350\n                                - 365                                         \nCovariance Type:                  opg                                         \n==============================================================================\n                 coef    std err          z      P>|z|      [0.025      0.975]\n------------------------------------------------------------------------------\nintercept      0.0132      0.014      0.975      0.330      -0.013       0.040\nar.L1          0.1299      0.059      2.217      0.027       0.015       0.245\nma.L1         -0.9694      0.016    -62.235      0.000      -1.000      -0.939\nsigma2        48.9989      3.432     14.279      0.000      42.273      55.725\n===================================================================================\nLjung-Box (Q):                       36.69   Jarque-Bera (JB):                26.17\nProb(Q):                              0.62   Prob(JB):                         0.00\nHeteroskedasticity (H):               0.97   Skew:                             0.58\nProb(H) (two-sided):                  0.85   Kurtosis:                         3.62\n===================================================================================\n\nWarnings:\n[1] Covariance matrix calculated using the outer product of gradients (complex-step).\n\"\"\"",
      "text/html": "<table class=\"simpletable\">\n<caption>SARIMAX Results</caption>\n<tr>\n  <th>Dep. Variable:</th>           <td>y</td>        <th>  No. Observations:  </th>    <td>365</td>   \n</tr>\n<tr>\n  <th>Model:</th>           <td>SARIMAX(1, 1, 1)</td> <th>  Log Likelihood     </th> <td>-1226.077</td>\n</tr>\n<tr>\n  <th>Date:</th>            <td>Fri, 03 Jul 2020</td> <th>  AIC                </th> <td>2460.154</td> \n</tr>\n<tr>\n  <th>Time:</th>                <td>19:16:40</td>     <th>  BIC                </th> <td>2475.743</td> \n</tr>\n<tr>\n  <th>Sample:</th>                  <td>0</td>        <th>  HQIC               </th> <td>2466.350</td> \n</tr>\n<tr>\n  <th></th>                      <td> - 365</td>      <th>                     </th>     <td> </td>    \n</tr>\n<tr>\n  <th>Covariance Type:</th>        <td>opg</td>       <th>                     </th>     <td> </td>    \n</tr>\n</table>\n<table class=\"simpletable\">\n<tr>\n      <td></td>         <th>coef</th>     <th>std err</th>      <th>z</th>      <th>P>|z|</th>  <th>[0.025</th>    <th>0.975]</th>  \n</tr>\n<tr>\n  <th>intercept</th> <td>    0.0132</td> <td>    0.014</td> <td>    0.975</td> <td> 0.330</td> <td>   -0.013</td> <td>    0.040</td>\n</tr>\n<tr>\n  <th>ar.L1</th>     <td>    0.1299</td> <td>    0.059</td> <td>    2.217</td> <td> 0.027</td> <td>    0.015</td> <td>    0.245</td>\n</tr>\n<tr>\n  <th>ma.L1</th>     <td>   -0.9694</td> <td>    0.016</td> <td>  -62.235</td> <td> 0.000</td> <td>   -1.000</td> <td>   -0.939</td>\n</tr>\n<tr>\n  <th>sigma2</th>    <td>   48.9989</td> <td>    3.432</td> <td>   14.279</td> <td> 0.000</td> <td>   42.273</td> <td>   55.725</td>\n</tr>\n</table>\n<table class=\"simpletable\">\n<tr>\n  <th>Ljung-Box (Q):</th>          <td>36.69</td> <th>  Jarque-Bera (JB):  </th> <td>26.17</td>\n</tr>\n<tr>\n  <th>Prob(Q):</th>                <td>0.62</td>  <th>  Prob(JB):          </th> <td>0.00</td> \n</tr>\n<tr>\n  <th>Heteroskedasticity (H):</th> <td>0.97</td>  <th>  Skew:              </th> <td>0.58</td> \n</tr>\n<tr>\n  <th>Prob(H) (two-sided):</th>    <td>0.85</td>  <th>  Kurtosis:          </th> <td>3.62</td> \n</tr>\n</table><br/><br/>Warnings:<br/>[1] Covariance matrix calculated using the outer product of gradients (complex-step)."
     },
     "metadata": {},
     "execution_count": 8
    }
   ],
   "source": [
    "stepwise_fit.summary()"
   ]
  },
  {
   "cell_type": "markdown",
   "metadata": {},
   "source": [
    "This shows a recommended (p,d,q) ARIMA Order of (1,1,1), with no seasonal_order component.\n",
    "\n",
    "We can see how this was determined by looking at the stepwise results. The recommended order is the one with the lowest <a href='https://en.wikipedia.org/wiki/Akaike_information_criterion'>Akaike information criterion</a> or AIC score. Note that the recommended model may <em>not</em> be the one with the closest fit. The AIC score takes complexity into account, and tries to identify the best <em>forecasting</em> model."
   ]
  },
  {
   "cell_type": "markdown",
   "metadata": {},
   "source": [
    "### Non-stationary dataset"
   ]
  },
  {
   "cell_type": "code",
   "execution_count": 14,
   "metadata": {
    "tags": []
   },
   "outputs": [
    {
     "output_type": "stream",
     "name": "stdout",
     "text": "Performing stepwise search to minimize aic\nFit ARIMA(1,1,1)x(0,1,1,12) [intercept=True]; AIC=1024.824, BIC=1039.200, Time=0.823 seconds\nFit ARIMA(0,1,0)x(0,1,0,12) [intercept=True]; AIC=1033.479, BIC=1039.229, Time=0.029 seconds\nFit ARIMA(1,1,0)x(1,1,0,12) [intercept=True]; AIC=1022.316, BIC=1033.817, Time=0.570 seconds\nFit ARIMA(0,1,1)x(0,1,1,12) [intercept=True]; AIC=1022.904, BIC=1034.405, Time=0.653 seconds\nFit ARIMA(0,1,0)x(0,1,0,12) [intercept=False]; AIC=1031.508, BIC=1034.383, Time=0.025 seconds\nFit ARIMA(1,1,0)x(0,1,0,12) [intercept=True]; AIC=1022.343, BIC=1030.968, Time=0.175 seconds\nFit ARIMA(1,1,0)x(2,1,0,12) [intercept=True]; AIC=1021.137, BIC=1035.513, Time=2.806 seconds\nFit ARIMA(1,1,0)x(2,1,1,12) [intercept=True]; AIC=1017.167, BIC=1034.418, Time=8.345 seconds\nNear non-invertible roots for order (1, 1, 0)(2, 1, 1, 12); setting score to inf (at least one inverse root too close to the border of the unit circle: 0.998)\nFit ARIMA(1,1,0)x(1,1,1,12) [intercept=True]; AIC=1022.410, BIC=1036.786, Time=1.148 seconds\nFit ARIMA(0,1,0)x(2,1,0,12) [intercept=True]; AIC=1034.067, BIC=1045.568, Time=1.887 seconds\nFit ARIMA(2,1,0)x(2,1,0,12) [intercept=True]; AIC=1023.007, BIC=1040.258, Time=2.825 seconds\nFit ARIMA(1,1,1)x(2,1,0,12) [intercept=True]; AIC=1022.905, BIC=1040.156, Time=3.224 seconds\nFit ARIMA(0,1,1)x(2,1,0,12) [intercept=True]; AIC=1021.017, BIC=1035.393, Time=2.036 seconds\nFit ARIMA(0,1,1)x(1,1,0,12) [intercept=True]; AIC=1022.314, BIC=1033.815, Time=0.564 seconds\nFit ARIMA(0,1,1)x(2,1,1,12) [intercept=True]; AIC=1015.843, BIC=1033.094, Time=9.680 seconds\nNear non-invertible roots for order (0, 1, 1)(2, 1, 1, 12); setting score to inf (at least one inverse root too close to the border of the unit circle: 0.998)\nFit ARIMA(0,1,1)x(1,1,1,12) [intercept=True]; AIC=1022.207, BIC=1036.583, Time=1.333 seconds\nFit ARIMA(0,1,2)x(2,1,0,12) [intercept=True]; AIC=1022.996, BIC=1040.247, Time=2.643 seconds\nFit ARIMA(1,1,2)x(2,1,0,12) [intercept=True]; AIC=1024.668, BIC=1044.795, Time=5.272 seconds\nTotal fit time: 44.061 seconds\n"
    },
    {
     "output_type": "execute_result",
     "data": {
      "text/plain": "<class 'statsmodels.iolib.summary.Summary'>\n\"\"\"\n                                     SARIMAX Results                                      \n==========================================================================================\nDep. Variable:                                  y   No. Observations:                  144\nModel:             SARIMAX(0, 1, 1)x(2, 1, 1, 12)   Log Likelihood                -501.921\nDate:                            Fri, 03 Jul 2020   AIC                           1015.843\nTime:                                    19:31:44   BIC                           1033.094\nSample:                                         0   HQIC                          1022.853\n                                            - 144                                         \nCovariance Type:                              opg                                         \n==============================================================================\n                 coef    std err          z      P>|z|      [0.025      0.975]\n------------------------------------------------------------------------------\nintercept      0.0004      0.034      0.011      0.991      -0.067       0.068\nma.L1         -0.4278      0.068     -6.264      0.000      -0.562      -0.294\nar.S.L12       0.6682      0.159      4.195      0.000       0.356       0.980\nar.S.L24       0.3302      0.095      3.475      0.001       0.144       0.516\nma.S.L12      -0.9734      1.193     -0.816      0.415      -3.312       1.366\nsigma2       110.8582    109.410      1.013      0.311    -103.582     325.299\n===================================================================================\nLjung-Box (Q):                       52.87   Jarque-Bera (JB):                 7.31\nProb(Q):                              0.08   Prob(JB):                         0.03\nHeteroskedasticity (H):               2.82   Skew:                             0.10\nProb(H) (two-sided):                  0.00   Kurtosis:                         4.14\n===================================================================================\n\nWarnings:\n[1] Covariance matrix calculated using the outer product of gradients (complex-step).\n\"\"\"",
      "text/html": "<table class=\"simpletable\">\n<caption>SARIMAX Results</caption>\n<tr>\n  <th>Dep. Variable:</th>                  <td>y</td>               <th>  No. Observations:  </th>    <td>144</td>  \n</tr>\n<tr>\n  <th>Model:</th>           <td>SARIMAX(0, 1, 1)x(2, 1, 1, 12)</td> <th>  Log Likelihood     </th> <td>-501.921</td>\n</tr>\n<tr>\n  <th>Date:</th>                   <td>Fri, 03 Jul 2020</td>        <th>  AIC                </th> <td>1015.843</td>\n</tr>\n<tr>\n  <th>Time:</th>                       <td>19:31:44</td>            <th>  BIC                </th> <td>1033.094</td>\n</tr>\n<tr>\n  <th>Sample:</th>                         <td>0</td>               <th>  HQIC               </th> <td>1022.853</td>\n</tr>\n<tr>\n  <th></th>                             <td> - 144</td>             <th>                     </th>     <td> </td>   \n</tr>\n<tr>\n  <th>Covariance Type:</th>               <td>opg</td>              <th>                     </th>     <td> </td>   \n</tr>\n</table>\n<table class=\"simpletable\">\n<tr>\n      <td></td>         <th>coef</th>     <th>std err</th>      <th>z</th>      <th>P>|z|</th>  <th>[0.025</th>    <th>0.975]</th>  \n</tr>\n<tr>\n  <th>intercept</th> <td>    0.0004</td> <td>    0.034</td> <td>    0.011</td> <td> 0.991</td> <td>   -0.067</td> <td>    0.068</td>\n</tr>\n<tr>\n  <th>ma.L1</th>     <td>   -0.4278</td> <td>    0.068</td> <td>   -6.264</td> <td> 0.000</td> <td>   -0.562</td> <td>   -0.294</td>\n</tr>\n<tr>\n  <th>ar.S.L12</th>  <td>    0.6682</td> <td>    0.159</td> <td>    4.195</td> <td> 0.000</td> <td>    0.356</td> <td>    0.980</td>\n</tr>\n<tr>\n  <th>ar.S.L24</th>  <td>    0.3302</td> <td>    0.095</td> <td>    3.475</td> <td> 0.001</td> <td>    0.144</td> <td>    0.516</td>\n</tr>\n<tr>\n  <th>ma.S.L12</th>  <td>   -0.9734</td> <td>    1.193</td> <td>   -0.816</td> <td> 0.415</td> <td>   -3.312</td> <td>    1.366</td>\n</tr>\n<tr>\n  <th>sigma2</th>    <td>  110.8582</td> <td>  109.410</td> <td>    1.013</td> <td> 0.311</td> <td> -103.582</td> <td>  325.299</td>\n</tr>\n</table>\n<table class=\"simpletable\">\n<tr>\n  <th>Ljung-Box (Q):</th>          <td>52.87</td> <th>  Jarque-Bera (JB):  </th> <td>7.31</td>\n</tr>\n<tr>\n  <th>Prob(Q):</th>                <td>0.08</td>  <th>  Prob(JB):          </th> <td>0.03</td>\n</tr>\n<tr>\n  <th>Heteroskedasticity (H):</th> <td>2.82</td>  <th>  Skew:              </th> <td>0.10</td>\n</tr>\n<tr>\n  <th>Prob(H) (two-sided):</th>    <td>0.00</td>  <th>  Kurtosis:          </th> <td>4.14</td>\n</tr>\n</table><br/><br/>Warnings:<br/>[1] Covariance matrix calculated using the outer product of gradients (complex-step)."
     },
     "metadata": {},
     "execution_count": 14
    }
   ],
   "source": [
    "stepwise_fit3 = auto_arima(df1['Thousands of Passengers'], start_p=1, start_q=1,\n",
    "                          max_p=3, max_q=3, m=12,\n",
    "                          start_P=0, seasonal=True,\n",
    "                          d=None, D=1, trace=True,\n",
    "                          error_action='ignore',   # we don't want to know if an order does not work\n",
    "                          suppress_warnings=True,  # we don't want convergence warnings\n",
    "                          stepwise=True)           # set to stepwise\n",
    "\n",
    "stepwise_fit3.summary()"
   ]
  },
  {
   "cell_type": "code",
   "execution_count": 12,
   "metadata": {
    "tags": []
   },
   "outputs": [
    {
     "output_type": "stream",
     "name": "stdout",
     "text": "Performing stepwise search to minimize aic\nFit ARIMA(0,1,0)x(1,1,1,12) [intercept=True]; AIC=1034.075, BIC=1045.576, Time=1.063 seconds\nFit ARIMA(0,1,0)x(0,1,0,12) [intercept=True]; AIC=1033.479, BIC=1039.229, Time=0.031 seconds\nFit ARIMA(1,1,0)x(1,1,0,12) [intercept=True]; AIC=1022.316, BIC=1033.817, Time=0.898 seconds\nFit ARIMA(0,1,1)x(0,1,1,12) [intercept=True]; AIC=1022.904, BIC=1034.405, Time=0.788 seconds\nFit ARIMA(0,1,0)x(0,1,0,12) [intercept=False]; AIC=1031.508, BIC=1034.383, Time=0.029 seconds\nFit ARIMA(1,1,0)x(0,1,0,12) [intercept=True]; AIC=1022.343, BIC=1030.968, Time=0.177 seconds\nFit ARIMA(1,1,0)x(2,1,0,12) [intercept=True]; AIC=1021.137, BIC=1035.513, Time=4.941 seconds\nC:\\Users\\User\\miniconda3\\envs\\ds\\lib\\site-packages\\statsmodels\\base\\model.py:567: ConvergenceWarning: Maximum Likelihood optimization failed to converge. Check mle_retvals\n  warn(\"Maximum Likelihood optimization failed to converge. \"\nFit ARIMA(1,1,0)x(2,1,1,12) [intercept=True]; AIC=1017.167, BIC=1034.418, Time=16.398 seconds\nNear non-invertible roots for order (1, 1, 0)(2, 1, 1, 12); setting score to inf (at least one inverse root too close to the border of the unit circle: 0.998)\nFit ARIMA(1,1,0)x(1,1,1,12) [intercept=True]; AIC=1022.410, BIC=1036.786, Time=2.363 seconds\nFit ARIMA(0,1,0)x(2,1,0,12) [intercept=True]; AIC=1034.067, BIC=1045.568, Time=3.949 seconds\nFit ARIMA(2,1,0)x(2,1,0,12) [intercept=True]; AIC=1023.007, BIC=1040.258, Time=6.688 seconds\nFit ARIMA(1,1,1)x(2,1,0,12) [intercept=True]; AIC=1022.905, BIC=1040.156, Time=6.655 seconds\nFit ARIMA(0,1,1)x(2,1,0,12) [intercept=True]; AIC=1021.017, BIC=1035.393, Time=3.947 seconds\nFit ARIMA(0,1,1)x(1,1,0,12) [intercept=True]; AIC=1022.314, BIC=1033.815, Time=0.582 seconds\nC:\\Users\\User\\miniconda3\\envs\\ds\\lib\\site-packages\\statsmodels\\base\\model.py:567: ConvergenceWarning: Maximum Likelihood optimization failed to converge. Check mle_retvals\n  warn(\"Maximum Likelihood optimization failed to converge. \"\nFit ARIMA(0,1,1)x(2,1,1,12) [intercept=True]; AIC=1015.843, BIC=1033.094, Time=13.049 seconds\nNear non-invertible roots for order (0, 1, 1)(2, 1, 1, 12); setting score to inf (at least one inverse root too close to the border of the unit circle: 0.998)\nFit ARIMA(0,1,1)x(1,1,1,12) [intercept=True]; AIC=1022.207, BIC=1036.583, Time=1.621 seconds\nFit ARIMA(0,1,2)x(2,1,0,12) [intercept=True]; AIC=1022.996, BIC=1040.247, Time=3.131 seconds\nFit ARIMA(1,1,2)x(2,1,0,12) [intercept=True]; AIC=1024.668, BIC=1044.795, Time=6.964 seconds\nTotal fit time: 73.419 seconds\n"
    }
   ],
   "source": [
    "# Non-stationary dataset\n",
    "# Should be integrated\n",
    "stepwise_fit2 = auto_arima(df1['Thousands of Passengers'], start_p = 0, start_q = 0, max_p = 4, max_q = 5, seasonal=True, trace=True, m=12)"
   ]
  },
  {
   "cell_type": "code",
   "execution_count": 13,
   "metadata": {},
   "outputs": [
    {
     "output_type": "execute_result",
     "data": {
      "text/plain": "<class 'statsmodels.iolib.summary.Summary'>\n\"\"\"\n                                     SARIMAX Results                                      \n==========================================================================================\nDep. Variable:                                  y   No. Observations:                  144\nModel:             SARIMAX(0, 1, 1)x(2, 1, 1, 12)   Log Likelihood                -501.921\nDate:                            Fri, 03 Jul 2020   AIC                           1015.843\nTime:                                    19:21:07   BIC                           1033.094\nSample:                                         0   HQIC                          1022.853\n                                            - 144                                         \nCovariance Type:                              opg                                         \n==============================================================================\n                 coef    std err          z      P>|z|      [0.025      0.975]\n------------------------------------------------------------------------------\nintercept      0.0004      0.034      0.011      0.991      -0.067       0.068\nma.L1         -0.4278      0.068     -6.264      0.000      -0.562      -0.294\nar.S.L12       0.6682      0.159      4.195      0.000       0.356       0.980\nar.S.L24       0.3302      0.095      3.475      0.001       0.144       0.516\nma.S.L12      -0.9734      1.193     -0.816      0.415      -3.312       1.366\nsigma2       110.8582    109.410      1.013      0.311    -103.582     325.299\n===================================================================================\nLjung-Box (Q):                       52.87   Jarque-Bera (JB):                 7.31\nProb(Q):                              0.08   Prob(JB):                         0.03\nHeteroskedasticity (H):               2.82   Skew:                             0.10\nProb(H) (two-sided):                  0.00   Kurtosis:                         4.14\n===================================================================================\n\nWarnings:\n[1] Covariance matrix calculated using the outer product of gradients (complex-step).\n\"\"\"",
      "text/html": "<table class=\"simpletable\">\n<caption>SARIMAX Results</caption>\n<tr>\n  <th>Dep. Variable:</th>                  <td>y</td>               <th>  No. Observations:  </th>    <td>144</td>  \n</tr>\n<tr>\n  <th>Model:</th>           <td>SARIMAX(0, 1, 1)x(2, 1, 1, 12)</td> <th>  Log Likelihood     </th> <td>-501.921</td>\n</tr>\n<tr>\n  <th>Date:</th>                   <td>Fri, 03 Jul 2020</td>        <th>  AIC                </th> <td>1015.843</td>\n</tr>\n<tr>\n  <th>Time:</th>                       <td>19:21:07</td>            <th>  BIC                </th> <td>1033.094</td>\n</tr>\n<tr>\n  <th>Sample:</th>                         <td>0</td>               <th>  HQIC               </th> <td>1022.853</td>\n</tr>\n<tr>\n  <th></th>                             <td> - 144</td>             <th>                     </th>     <td> </td>   \n</tr>\n<tr>\n  <th>Covariance Type:</th>               <td>opg</td>              <th>                     </th>     <td> </td>   \n</tr>\n</table>\n<table class=\"simpletable\">\n<tr>\n      <td></td>         <th>coef</th>     <th>std err</th>      <th>z</th>      <th>P>|z|</th>  <th>[0.025</th>    <th>0.975]</th>  \n</tr>\n<tr>\n  <th>intercept</th> <td>    0.0004</td> <td>    0.034</td> <td>    0.011</td> <td> 0.991</td> <td>   -0.067</td> <td>    0.068</td>\n</tr>\n<tr>\n  <th>ma.L1</th>     <td>   -0.4278</td> <td>    0.068</td> <td>   -6.264</td> <td> 0.000</td> <td>   -0.562</td> <td>   -0.294</td>\n</tr>\n<tr>\n  <th>ar.S.L12</th>  <td>    0.6682</td> <td>    0.159</td> <td>    4.195</td> <td> 0.000</td> <td>    0.356</td> <td>    0.980</td>\n</tr>\n<tr>\n  <th>ar.S.L24</th>  <td>    0.3302</td> <td>    0.095</td> <td>    3.475</td> <td> 0.001</td> <td>    0.144</td> <td>    0.516</td>\n</tr>\n<tr>\n  <th>ma.S.L12</th>  <td>   -0.9734</td> <td>    1.193</td> <td>   -0.816</td> <td> 0.415</td> <td>   -3.312</td> <td>    1.366</td>\n</tr>\n<tr>\n  <th>sigma2</th>    <td>  110.8582</td> <td>  109.410</td> <td>    1.013</td> <td> 0.311</td> <td> -103.582</td> <td>  325.299</td>\n</tr>\n</table>\n<table class=\"simpletable\">\n<tr>\n  <th>Ljung-Box (Q):</th>          <td>52.87</td> <th>  Jarque-Bera (JB):  </th> <td>7.31</td>\n</tr>\n<tr>\n  <th>Prob(Q):</th>                <td>0.08</td>  <th>  Prob(JB):          </th> <td>0.03</td>\n</tr>\n<tr>\n  <th>Heteroskedasticity (H):</th> <td>2.82</td>  <th>  Skew:              </th> <td>0.10</td>\n</tr>\n<tr>\n  <th>Prob(H) (two-sided):</th>    <td>0.00</td>  <th>  Kurtosis:          </th> <td>4.14</td>\n</tr>\n</table><br/><br/>Warnings:<br/>[1] Covariance matrix calculated using the outer product of gradients (complex-step)."
     },
     "metadata": {},
     "execution_count": 13
    }
   ],
   "source": [
    "stepwise_fit2.summary()"
   ]
  },
  {
   "cell_type": "code",
   "execution_count": null,
   "metadata": {},
   "outputs": [],
   "source": []
  }
 ],
 "metadata": {
  "language_info": {
   "codemirror_mode": {
    "name": "ipython",
    "version": 3
   },
   "file_extension": ".py",
   "mimetype": "text/x-python",
   "name": "python",
   "nbconvert_exporter": "python",
   "pygments_lexer": "ipython3",
   "version": "3.8.2-final"
  },
  "orig_nbformat": 2,
  "kernelspec": {
   "name": "python3",
   "display_name": "Python 3"
  }
 },
 "nbformat": 4,
 "nbformat_minor": 2
}